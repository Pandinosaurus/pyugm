{
 "metadata": {
  "name": "",
  "signature": "sha256:023688d73cce9f92604b99b0a84107d1fa2695ed24e6725c13a46f015453d1ac"
 },
 "nbformat": 3,
 "nbformat_minor": 0,
 "worksheets": [
  {
   "cells": [
    {
     "cell_type": "markdown",
     "metadata": {},
     "source": [
      "# LBP for image segmentation\n",
      "\n",
      "This notebook shows how to sep up an MRF for a vision problem."
     ]
    },
    {
     "cell_type": "markdown",
     "metadata": {},
     "source": [
      "## Introduction\n",
      "\n",
      "To segment an image into foreground and background, we can try to label each pixel as `'0'` (background), or `'1'` (foreground).\n",
      "We therefore have one random variable for each observed pixel, and one random variable for for each unobserved pixel label.\n",
      "\n",
      "If we assume that labels are independent of pixel values and other labels given their neighbours, we get a grid of labels. Let us also assume (for now) that the observed pixel values are independet given the labels."
     ]
    },
    {
     "cell_type": "markdown",
     "metadata": {},
     "source": [
      "### Parameters\n",
      "Since we will have many factors of the same form, let's template them.\n",
      "\n",
      "Each entry in the potential table can be associated with a parameter:"
     ]
    },
    {
     "cell_type": "code",
     "collapsed": false,
     "input": [
      "import numpy as np\n",
      "from pyugm.factor import DiscreteFactor\n",
      "\n",
      "# Specify the parameters (should be the same shape as the potential table would have been)\n",
      "factor_parameters = np.array([['theta_0', 'theta_1'], ['theta_2', 'theta_3']])  \n",
      "variables_names_and_cardinalities = [(1, 2), (2, 2)]\n",
      "# Construct the factor\n",
      "factor = DiscreteFactor(variables_names_and_cardinalities, parameters=factor_parameters)\n",
      "print factor"
     ],
     "language": "python",
     "metadata": {},
     "outputs": [
      {
       "output_type": "stream",
       "stream": "stdout",
       "text": [
        "F{1, 2}\n"
       ]
      }
     ],
     "prompt_number": 7
    },
    {
     "cell_type": "code",
     "collapsed": false,
     "input": [
      "# The factor still has its default potential table (all ones)\n",
      "factor.data"
     ],
     "language": "python",
     "metadata": {},
     "outputs": [
      {
       "metadata": {},
       "output_type": "pyout",
       "prompt_number": 5,
       "text": [
        "array([[ 1.,  1.],\n",
        "       [ 1.,  1.]])"
       ]
      }
     ],
     "prompt_number": 5
    },
    {
     "cell_type": "markdown",
     "metadata": {},
     "source": [
      "Now we can set the parameters..."
     ]
    },
    {
     "cell_type": "code",
     "collapsed": false,
     "input": [
      "# Potentials are filled with the exponent of the parameters.\n",
      "factor.set_parameters({'theta_0': np.log(2), 'theta_1': np.log(0.2), 'theta_2': np.log(5), 'theta_3': np.log(1)})\n",
      "factor.data"
     ],
     "language": "python",
     "metadata": {},
     "outputs": [
      {
       "metadata": {},
       "output_type": "pyout",
       "prompt_number": 11,
       "text": [
        "array([[ 2. ,  0.2],\n",
        "       [ 5. ,  1. ]])"
       ]
      }
     ],
     "prompt_number": 11
    },
    {
     "cell_type": "markdown",
     "metadata": {},
     "source": [
      "...and set it to something else:"
     ]
    },
    {
     "cell_type": "code",
     "collapsed": false,
     "input": [
      "factor.set_parameters({'theta_0': np.log(1), 'theta_1': np.log(2), 'theta_2': np.log(1), 'theta_3': np.log(1)})\n",
      "factor.data"
     ],
     "language": "python",
     "metadata": {},
     "outputs": [
      {
       "metadata": {},
       "output_type": "pyout",
       "prompt_number": 12,
       "text": [
        "array([[ 1.,  2.],\n",
        "       [ 1.,  1.]])"
       ]
      }
     ],
     "prompt_number": 12
    },
    {
     "cell_type": "markdown",
     "metadata": {},
     "source": [
      "### Parameter tying\n",
      "\n",
      "The same parameter name can also be specified more than once to force the table to fill different cells with the same value. (We will later see that this is useful for learning parameters as well.)"
     ]
    },
    {
     "cell_type": "code",
     "collapsed": false,
     "input": [
      "factor_parameters = np.array([['theta_0', 'theta_1'], ['theta_0', 'theta_0']])  \n",
      "factor = DiscreteFactor([(1, 2), (2, 2)], parameters=factor_parameters)\n",
      "factor.set_parameters({'theta_0': np.log(3), 'theta_1': np.log(5)})\n",
      "print factor.data"
     ],
     "language": "python",
     "metadata": {},
     "outputs": [
      {
       "output_type": "stream",
       "stream": "stdout",
       "text": [
        "[[ 3.  5.]\n",
        " [ 3.  3.]]\n"
       ]
      }
     ],
     "prompt_number": 13
    },
    {
     "cell_type": "markdown",
     "metadata": {},
     "source": [
      "## Segmentation model\n",
      "\n",
      "Now we can start to think how the factors must be filled to nudge neighbouring labels to be similar.\n",
      "\n",
      "The label can take on one of two values (background or foreground) and a variable and one of its neighbours occurs in a factor. \n",
      "Let's add one parameter for when the two variables' labels are the same and one for when they are different."
     ]
    },
    {
     "cell_type": "markdown",
     "metadata": {},
     "source": [
      "### Templates"
     ]
    },
    {
     "cell_type": "code",
     "collapsed": true,
     "input": [
      "label_template = np.array([['same', 'different'], \n",
      "                           ['different', 'same']])"
     ],
     "language": "python",
     "metadata": {},
     "outputs": [],
     "prompt_number": 20
    },
    {
     "cell_type": "markdown",
     "metadata": {},
     "source": [
      "For the observed pixels, let's "
     ]
    },
    {
     "cell_type": "code",
     "collapsed": false,
     "input": [
      "import pickle\n",
      "import matplotlib.pyplot as plt\n",
      "import matplotlib\n",
      "%matplotlib inline\n",
      "\n",
      "image = pickle.load(open('test_image.pkl'))\n",
      "plt.figure(figsize=(14, 3))\n",
      "plt.subplot(1, 2, 1)\n",
      "_ = plt.imshow(image, cmap=matplotlib.cm.Greys_r, interpolation='nearest')\n",
      "_ = plt.title('Image')\n",
      "plt.subplot(1, 2, 2)\n",
      "_ = plt.hist(image.flatten(), bins=32, color=(0.5, 0.5, 0.5))\n",
      "_ = plt.title('Pixel intensity histogram')"
     ],
     "language": "python",
     "metadata": {},
     "outputs": [
      {
       "metadata": {},
       "output_type": "display_data",
       "png": "[encoded data removed]",
       "text": [
        "<matplotlib.figure.Figure at 0x10a916650>"
       ]
      }
     ],
     "prompt_number": 35
    },
    {
     "cell_type": "code",
     "collapsed": false,
     "input": [
      "observation_template = np.array([['obs_low'] * 32,\n",
      "                            ['obs_high'] * 32])\n",
      "observation_template[0, 13:17] = 'obs_high'\n",
      "observation_template[1, 13:17] = 'obs_low'"
     ],
     "language": "python",
     "metadata": {},
     "outputs": [],
     "prompt_number": 38
    },
    {
     "cell_type": "markdown",
     "metadata": {},
     "source": [
      "### Factors\n",
      "\n",
      "Let's add all the necessary factors with their templates."
     ]
    },
    {
     "cell_type": "code",
     "collapsed": false,
     "input": [
      "I, J = image.shape\n",
      "factors = []\n",
      "\n",
      "# Add label factors\n",
      "for i in xrange(I - 1):\n",
      "    for j in xrange(J - 1):\n",
      "        variable_name = 'label_{}_{}'.format(i, j)\n",
      "        neighbour_down_name = 'label_{}_{}'.format(i + 1, j)\n",
      "        factors.append(DiscreteFactor([variable_name, neighbour_down_name], parameters=label_template))\n",
      "        neighbour_right_name = 'label_{}_{}'.format(i, j + 1)\n",
      "        factors.append(DiscreteFactor([variable_name, neighbour_right_name], parameters=label_template))"
     ],
     "language": "python",
     "metadata": {},
     "outputs": [],
     "prompt_number": 45
    },
    {
     "cell_type": "code",
     "collapsed": false,
     "input": [
      "evidence = {}\n",
      "\n",
      "# Add observation factors\n",
      "for i in xrange(I):\n",
      "    for j in xrange(J):\n",
      "        label_variable_name = 'label_{}_{}'.format(i, j)\n",
      "        observation_variable_name = 'obs_{}_{}'.format(i,j)\n",
      "        factors.append(DiscreteFactor([(label_variable_name, 2), (observation_variable_name, 32)], parameters=observation_template))\n",
      "        evidence[observation_variable_name] = image[i, j]"
     ],
     "language": "python",
     "metadata": {},
     "outputs": [],
     "prompt_number": 46
    },
    {
     "cell_type": "markdown",
     "metadata": {},
     "source": [
      "### Model\n",
      "\n",
      "Add the factors to a model."
     ]
    },
    {
     "cell_type": "code",
     "collapsed": false,
     "input": [
      "from pyugm.model import Model\n",
      "\n",
      "model = Model(factors)"
     ],
     "language": "python",
     "metadata": {},
     "outputs": [],
     "prompt_number": 47
    },
    {
     "cell_type": "markdown",
     "metadata": {},
     "source": [
      "### Choose parameters\n",
      "\n",
      "Lets choose parameters so that neighbouring labels are encouraged to be the same, and observations between 13 and 17 more likely\n",
      "to be background."
     ]
    },
    {
     "cell_type": "code",
     "collapsed": false,
     "input": [
      "parameters = {'same': 0.1, 'different': -1.0, 'obs_high': 0.1, 'obs_low': -1.0}\n",
      "model.set_parameters(parameters)"
     ],
     "language": "python",
     "metadata": {},
     "outputs": [],
     "prompt_number": 107
    },
    {
     "cell_type": "markdown",
     "metadata": {},
     "source": [
      "### Run belief updates"
     ]
    },
    {
     "cell_type": "code",
     "collapsed": false,
     "input": [
      "from pyugm.infer import LoopyBeliefUpdateInference\n",
      "from pyugm.infer import FloodingProtocol\n",
      "\n",
      "inference = LoopyBeliefUpdateInference(model)\n",
      "order = FloodingProtocol(model, max_iterations=30)"
     ],
     "language": "python",
     "metadata": {},
     "outputs": [],
     "prompt_number": 108
    },
    {
     "cell_type": "code",
     "collapsed": false,
     "input": [
      "inference.calibrate(update_order=order)"
     ],
     "language": "python",
     "metadata": {},
     "outputs": [
      {
       "metadata": {},
       "output_type": "pyout",
       "prompt_number": 109,
       "text": [
        "(0.0, 31)"
       ]
      }
     ],
     "prompt_number": 109
    },
    {
     "cell_type": "markdown",
     "metadata": {},
     "source": [
      "### Visualise"
     ]
    },
    {
     "cell_type": "code",
     "collapsed": false,
     "input": [
      "labels = np.zeros(image.shape)\n",
      "for i in xrange(I):\n",
      "    for j in xrange(J):\n",
      "        variable_name = 'label_{}_{}'.format(i, j)\n",
      "        label_factor = model.get_marginals(variable_name)[0]\n",
      "        labels[i, j] = label_factor._data[0] / sum(label_factor._data)  # [TODO: would be useful to get normalised potentials]"
     ],
     "language": "python",
     "metadata": {},
     "outputs": [],
     "prompt_number": 124
    },
    {
     "cell_type": "code",
     "collapsed": false,
     "input": [
      "plt.figure(figsize=(14, 3))\n",
      "plt.subplot(1, 3, 1)\n",
      "_ = plt.imshow(image, cmap=matplotlib.cm.Greys_r, interpolation='nearest')\n",
      "_ = plt.title('Image')\n",
      "plt.subplot(1, 3, 2)\n",
      "_ = plt.imshow(labels, cmap=matplotlib.cm.Greys, interpolation='nearest')\n",
      "_ = plt.title('Image')\n",
      "plt.subplot(1, 3, 3)\n",
      "_ = plt.imshow(labels > 0.01 , cmap=matplotlib.cm.Greys, interpolation='nearest')\n",
      "_ = plt.title('Image')"
     ],
     "language": "python",
     "metadata": {},
     "outputs": [
      {
       "metadata": {},
       "output_type": "display_data",
       "png": "[encoded data removed]",
       "text": [
        "<matplotlib.figure.Figure at 0x10d8e5b10>"
       ]
      }
     ],
     "prompt_number": 130
    },
    {
     "cell_type": "markdown",
     "metadata": {},
     "source": [
      "To be continued - still need some experimentation."
     ]
    }
   ],
   "metadata": {}
  }
 ]
}