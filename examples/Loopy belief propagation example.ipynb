{
 "metadata": {
  "name": "",
  "signature": "sha256:7dda47ed98c5c889d2a86efbb4bcbdfa2db3f9ab4f1ce7b45448fc046389baf2"
 },
 "nbformat": 3,
 "nbformat_minor": 0,
 "worksheets": [
  {
   "cells": [
    {
     "cell_type": "markdown",
     "metadata": {},
     "source": [
      "# LBP for image segmentation\n",
      "\n",
      "This notebook shows how to sep up an MRF for a vision problem."
     ]
    },
    {
     "cell_type": "markdown",
     "metadata": {},
     "source": [
      "## Introduction\n",
      "\n",
      "To segment an image into foreground and background, we can try to label each pixel as `'0'` (background), or `'1'` (foreground).\n",
      "We therefore have one random variable for each observed pixel, and one random variable for for each unobserved pixel label.\n",
      "\n",
      "If we assume that labels are independent of pixel values and other labels given their neighbours, we get a grid of labels. Let us also assume (for now) that the observed pixel values are independet given the labels."
     ]
    },
    {
     "cell_type": "markdown",
     "metadata": {},
     "source": [
      "### Parameters\n",
      "Since we will have many factors of the same form, let's template them.\n",
      "\n",
      "Each entry in the potential table can be associated with a parameter:"
     ]
    },
    {
     "cell_type": "code",
     "collapsed": false,
     "input": [
      "import numpy as np\n",
      "from pyugm.factor import DiscreteFactor\n",
      "\n",
      "# Specify the parameters (should be the same shape as the potential table would have been)\n",
      "factor_parameters = np.array([['theta_0', 'theta_1'], ['theta_2', 'theta_3']])  \n",
      "variables_names_and_cardinalities = [(1, 2), (2, 2)]\n",
      "# Construct the factor\n",
      "factor = DiscreteFactor(variables_names_and_cardinalities, parameters=factor_parameters)\n",
      "print factor"
     ],
     "language": "python",
     "metadata": {},
     "outputs": [
      {
       "output_type": "stream",
       "stream": "stdout",
       "text": [
        "F{1, 2}\n"
       ]
      }
     ],
     "prompt_number": 1
    },
    {
     "cell_type": "code",
     "collapsed": false,
     "input": [
      "# The factor still has its default potential table (all ones)\n",
      "factor.data"
     ],
     "language": "python",
     "metadata": {},
     "outputs": [
      {
       "metadata": {},
       "output_type": "pyout",
       "prompt_number": 2,
       "text": [
        "array([[ 1.,  1.],\n",
        "       [ 1.,  1.]])"
       ]
      }
     ],
     "prompt_number": 2
    },
    {
     "cell_type": "markdown",
     "metadata": {},
     "source": [
      "Now we can set the parameters..."
     ]
    },
    {
     "cell_type": "code",
     "collapsed": false,
     "input": [
      "# Potentials are filled with the exponent of the parameters.\n",
      "factor.set_parameters({'theta_0': np.log(2), 'theta_1': np.log(0.2), 'theta_2': np.log(5), 'theta_3': np.log(1)})\n",
      "factor.data"
     ],
     "language": "python",
     "metadata": {},
     "outputs": [
      {
       "metadata": {},
       "output_type": "pyout",
       "prompt_number": 3,
       "text": [
        "array([[ 2. ,  0.2],\n",
        "       [ 5. ,  1. ]])"
       ]
      }
     ],
     "prompt_number": 3
    },
    {
     "cell_type": "markdown",
     "metadata": {},
     "source": [
      "...and set it to something else:"
     ]
    },
    {
     "cell_type": "code",
     "collapsed": false,
     "input": [
      "factor.set_parameters({'theta_0': np.log(1), 'theta_1': np.log(2), 'theta_2': np.log(1), 'theta_3': np.log(1)})\n",
      "factor.data"
     ],
     "language": "python",
     "metadata": {},
     "outputs": [
      {
       "metadata": {},
       "output_type": "pyout",
       "prompt_number": 4,
       "text": [
        "array([[ 1.,  2.],\n",
        "       [ 1.,  1.]])"
       ]
      }
     ],
     "prompt_number": 4
    },
    {
     "cell_type": "markdown",
     "metadata": {},
     "source": [
      "### Parameter tying\n",
      "\n",
      "The same parameter name can also be specified more than once to force the table to fill different cells with the same value. (We will later see that this is useful for learning parameters as well.)"
     ]
    },
    {
     "cell_type": "code",
     "collapsed": false,
     "input": [
      "factor_parameters = np.array([['theta_0', 'theta_1'], ['theta_0', 'theta_0']])  \n",
      "factor = DiscreteFactor([(1, 2), (2, 2)], parameters=factor_parameters)\n",
      "factor.set_parameters({'theta_0': np.log(3), 'theta_1': np.log(5)})\n",
      "print factor.data"
     ],
     "language": "python",
     "metadata": {},
     "outputs": [
      {
       "output_type": "stream",
       "stream": "stdout",
       "text": [
        "[[ 3.  5.]\n",
        " [ 3.  3.]]\n"
       ]
      }
     ],
     "prompt_number": 5
    },
    {
     "cell_type": "markdown",
     "metadata": {},
     "source": [
      "## Baseline model\n",
      "\n",
      "For a baseline, let's classify pixels as background and foreground based only on their intensity."
     ]
    },
    {
     "cell_type": "code",
     "collapsed": false,
     "input": [
      "import pickle\n",
      "import matplotlib.pyplot as plt\n",
      "import matplotlib\n",
      "%matplotlib inline\n",
      "\n",
      "image = pickle.load(open('test_image.pkl'))\n",
      "plt.figure(figsize=(14, 3))\n",
      "plt.subplot(1, 2, 1)\n",
      "_ = plt.imshow(image, cmap=matplotlib.cm.Greys_r, interpolation='nearest')\n",
      "_ = plt.title('Image')\n",
      "plt.subplot(1, 2, 2)\n",
      "_ = plt.hist(image.flatten(), bins=32, color=(0.5, 0.5, 0.5))\n",
      "_ = plt.title('Pixel intensity histogram')"
     ],
     "language": "python",
     "metadata": {},
     "outputs": [
      {
       "metadata": {},
       "output_type": "display_data",
       "png": "[encoded data removed]",
       "text": [
        "<matplotlib.figure.Figure at 0x1097806d0>"
       ]
      }
     ],
     "prompt_number": 6
    },
    {
     "cell_type": "markdown",
     "metadata": {},
     "source": [
      "Let's make a template where the probability that a pixel is foreground or background is different \n",
      "given that the pixels intensities are either between 13 and 17 or not."
     ]
    },
    {
     "cell_type": "code",
     "collapsed": false,
     "input": [
      "observation_template = np.array([['obs_low'] * 32,\n",
      "                            ['obs_high'] * 32])\n",
      "observation_template[0, 13:17] = 'obs_high'\n",
      "observation_template[1, 13:17] = 'obs_low'"
     ],
     "language": "python",
     "metadata": {},
     "outputs": [],
     "prompt_number": 7
    },
    {
     "cell_type": "markdown",
     "metadata": {},
     "source": [
      "Each observed pixel variable occurs in the same factor as its label."
     ]
    },
    {
     "cell_type": "code",
     "collapsed": false,
     "input": [
      "I, J = image.shape\n",
      "factors = []\n",
      "evidence = {}\n",
      "\n",
      "# Add observation factors\n",
      "for i in xrange(I):\n",
      "    for j in xrange(J):\n",
      "        label_variable_name = 'label_{}_{}'.format(i, j)\n",
      "        observation_variable_name = 'obs_{}_{}'.format(i,j)\n",
      "        factors.append(DiscreteFactor([(label_variable_name, 2), (observation_variable_name, 32)], parameters=observation_template))\n",
      "        evidence[observation_variable_name] = image[i, j]"
     ],
     "language": "python",
     "metadata": {},
     "outputs": [],
     "prompt_number": 8
    },
    {
     "cell_type": "markdown",
     "metadata": {},
     "source": [
      "### Build the model"
     ]
    },
    {
     "cell_type": "code",
     "collapsed": false,
     "input": [
      "from pyugm.model import Model\n",
      "model = Model(factors)"
     ],
     "language": "python",
     "metadata": {},
     "outputs": [],
     "prompt_number": 9
    },
    {
     "cell_type": "markdown",
     "metadata": {},
     "source": [
      "### Choose parameters and set the evidence\n",
      "\n",
      "Give a higher probability of seeing background pixel intensities of 13 to 17 than foreground intensities in that range."
     ]
    },
    {
     "cell_type": "code",
     "collapsed": false,
     "input": [
      "parameters = {'obs_high': 0.1, 'obs_low': -1.0}\n",
      "model.set_parameters(parameters)\n",
      "model.set_evidence(evidence)"
     ],
     "language": "python",
     "metadata": {},
     "outputs": [],
     "prompt_number": 10
    },
    {
     "cell_type": "markdown",
     "metadata": {},
     "source": [
      "### Run belief updates"
     ]
    },
    {
     "cell_type": "code",
     "collapsed": false,
     "input": [
      "from pyugm.infer import LoopyBeliefUpdateInference\n",
      "from pyugm.infer import FloodingProtocol\n",
      "\n",
      "inference = LoopyBeliefUpdateInference(model)\n",
      "order = FloodingProtocol(model, max_iterations=30)"
     ],
     "language": "python",
     "metadata": {},
     "outputs": [],
     "prompt_number": 11
    },
    {
     "cell_type": "code",
     "collapsed": false,
     "input": [
      "inference.calibrate(update_order=order)"
     ],
     "language": "python",
     "metadata": {},
     "outputs": [
      {
       "metadata": {},
       "output_type": "pyout",
       "prompt_number": 12,
       "text": [
        "(0, 0)"
       ]
      }
     ],
     "prompt_number": 12
    },
    {
     "cell_type": "markdown",
     "metadata": {},
     "source": [
      "### Visualise"
     ]
    },
    {
     "cell_type": "code",
     "collapsed": false,
     "input": [
      "labels = np.zeros(image.shape)\n",
      "for i in xrange(I):\n",
      "    for j in xrange(J):\n",
      "        variable_name = 'label_{}_{}'.format(i, j)\n",
      "        label_factor = model.get_marginals(variable_name)[0]\n",
      "        labels[i, j] = label_factor.normalized_data[0] "
     ],
     "language": "python",
     "metadata": {},
     "outputs": [],
     "prompt_number": 13
    },
    {
     "cell_type": "code",
     "collapsed": false,
     "input": [
      "plt.figure(figsize=(14, 3))\n",
      "plt.subplot(1, 3, 1)\n",
      "_ = plt.imshow(image, cmap=matplotlib.cm.Greys_r, interpolation='nearest')\n",
      "_ = plt.title('Image')\n",
      "plt.subplot(1, 3, 2)\n",
      "_ = plt.imshow(labels, cmap=matplotlib.cm.Greys, interpolation='nearest')\n",
      "_ = plt.title('Image')"
     ],
     "language": "python",
     "metadata": {},
     "outputs": [
      {
       "metadata": {},
       "output_type": "display_data",
       "png": "[encoded data removed]",
       "text": [
        "<matplotlib.figure.Figure at 0x109c6e190>"
       ]
      }
     ],
     "prompt_number": 14
    },
    {
     "cell_type": "markdown",
     "metadata": {},
     "source": [
      "## Segmentation model\n",
      "\n",
      "Now we can start to think how the factors must be filled to nudge neighbouring labels to be similar and smooth out the baseline a bit.\n",
      "\n",
      "The label can take on one of two values (background or foreground) and a variable and one of its neighbours occurs in a factor. \n",
      "Let's add one parameter for when the two variables' labels are the same and one for when they are different."
     ]
    },
    {
     "cell_type": "markdown",
     "metadata": {},
     "source": [
      "### Template"
     ]
    },
    {
     "cell_type": "code",
     "collapsed": true,
     "input": [
      "label_template = np.array([['same', 'different'], \n",
      "                           ['different', 'same']])"
     ],
     "language": "python",
     "metadata": {},
     "outputs": [],
     "prompt_number": 15
    },
    {
     "cell_type": "markdown",
     "metadata": {},
     "source": [
      "For the observed pixels, let's "
     ]
    },
    {
     "cell_type": "markdown",
     "metadata": {},
     "source": [
      "### Factors\n",
      "\n",
      "Let's add all the necessary factors with their templates."
     ]
    },
    {
     "cell_type": "code",
     "collapsed": false,
     "input": [
      "factors = []\n",
      "evidence = {}\n",
      "\n",
      "# Add label factors\n",
      "for i in xrange(I - 1):\n",
      "    for j in xrange(J - 1):\n",
      "        variable_name = 'label_{}_{}'.format(i, j)\n",
      "        neighbour_down_name = 'label_{}_{}'.format(i + 1, j)\n",
      "        factors.append(DiscreteFactor([variable_name, neighbour_down_name], parameters=label_template))\n",
      "        neighbour_right_name = 'label_{}_{}'.format(i, j + 1)\n",
      "        factors.append(DiscreteFactor([variable_name, neighbour_right_name], parameters=label_template))"
     ],
     "language": "python",
     "metadata": {},
     "outputs": [],
     "prompt_number": 16
    },
    {
     "cell_type": "code",
     "collapsed": false,
     "input": [
      "evidence = {}\n",
      "\n",
      "# Add observation factors\n",
      "for i in xrange(I):\n",
      "    for j in xrange(J):\n",
      "        label_variable_name = 'label_{}_{}'.format(i, j)\n",
      "        observation_variable_name = 'obs_{}_{}'.format(i,j)\n",
      "        factors.append(DiscreteFactor([(label_variable_name, 2), (observation_variable_name, 32)], parameters=observation_template))\n",
      "        evidence[observation_variable_name] = image[i, j]"
     ],
     "language": "python",
     "metadata": {},
     "outputs": [],
     "prompt_number": 17
    },
    {
     "cell_type": "markdown",
     "metadata": {},
     "source": [
      "### Model\n",
      "\n",
      "Add the factors to a model."
     ]
    },
    {
     "cell_type": "code",
     "collapsed": false,
     "input": [
      "model = Model(factors)"
     ],
     "language": "python",
     "metadata": {},
     "outputs": [],
     "prompt_number": 18
    },
    {
     "cell_type": "markdown",
     "metadata": {},
     "source": [
      "### Choose parameters\n",
      "\n",
      "Lets choose parameters so that neighbouring labels are encouraged to be the same, and observations between 13 and 17 more likely\n",
      "to be background."
     ]
    },
    {
     "cell_type": "code",
     "collapsed": false,
     "input": [
      "parameters = {'same': 0.2, 'different': -1.0, 'obs_high': 0.1, 'obs_low': -1.0}\n",
      "model.set_parameters(parameters)\n",
      "model.set_evidence(evidence)"
     ],
     "language": "python",
     "metadata": {},
     "outputs": [],
     "prompt_number": 19
    },
    {
     "cell_type": "markdown",
     "metadata": {},
     "source": [
      "### Run belief updates"
     ]
    },
    {
     "cell_type": "code",
     "collapsed": false,
     "input": [
      "from pyugm.infer import LoopyBeliefUpdateInference\n",
      "from pyugm.infer import FloodingProtocol\n",
      "\n",
      "inference = LoopyBeliefUpdateInference(model)\n",
      "def reporter(ordering):\n",
      "    print ordering.total_iterations, ordering.current_iteration_delta\n",
      "order = FloodingProtocol(model, max_iterations=10, callback=reporter)"
     ],
     "language": "python",
     "metadata": {},
     "outputs": []
    },
    {
     "cell_type": "code",
     "collapsed": false,
     "input": [
      "inference.calibrate(update_order=order)"
     ],
     "language": "python",
     "metadata": {},
     "outputs": [
      {
       "output_type": "stream",
       "stream": "stdout",
       "text": [
        "1 8608.11919506\n",
        "2"
       ]
      },
      {
       "output_type": "stream",
       "stream": "stdout",
       "text": [
        " 1810.6243227\n",
        "3"
       ]
      },
      {
       "output_type": "stream",
       "stream": "stdout",
       "text": [
        " 900.523518886\n",
        "4"
       ]
      },
      {
       "output_type": "stream",
       "stream": "stdout",
       "text": [
        " 634.443399833\n",
        "5"
       ]
      }
     ]
    },
    {
     "cell_type": "markdown",
     "metadata": {},
     "source": [
      "### Visualise"
     ]
    },
    {
     "cell_type": "code",
     "collapsed": false,
     "input": [
      "labels = np.zeros(image.shape)\n",
      "for i in xrange(I):\n",
      "    for j in xrange(J):\n",
      "        variable_name = 'label_{}_{}'.format(i, j)\n",
      "        label_factor = model.get_marginals(variable_name)[0]\n",
      "        labels[i, j] = label_factor._data[0] / sum(label_factor._data)  # [TODO: would be useful to get normalised potentials]"
     ],
     "language": "python",
     "metadata": {},
     "outputs": []
    },
    {
     "cell_type": "code",
     "collapsed": false,
     "input": [
      "plt.figure(figsize=(14, 3))\n",
      "plt.subplot(1, 3, 1)\n",
      "_ = plt.imshow(image, cmap=matplotlib.cm.Greys_r, interpolation='nearest')\n",
      "_ = plt.title('Image')\n",
      "plt.subplot(1, 3, 2)\n",
      "_ = plt.imshow(labels, cmap=matplotlib.cm.Greys, interpolation='nearest')\n",
      "_ = plt.title('Image')\n",
      "plt.subplot(1, 3, 3)\n",
      "_ = plt.imshow(labels > 0.01 , cmap=matplotlib.cm.Greys, interpolation='nearest')\n",
      "_ = plt.title('Image')"
     ],
     "language": "python",
     "metadata": {},
     "outputs": []
    },
    {
     "cell_type": "markdown",
     "metadata": {},
     "source": [
      "To be continued - still needs some experimentation."
     ]
    },
    {
     "cell_type": "code",
     "collapsed": false,
     "input": [],
     "language": "python",
     "metadata": {},
     "outputs": []
    }
   ],
   "metadata": {}
  }
 ]
}