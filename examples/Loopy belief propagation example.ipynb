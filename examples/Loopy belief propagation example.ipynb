{
 "metadata": {
  "name": "",
  "signature": "sha256:94e80605d6cbaf047db31f68352e0e6f841baee885a1ed659aec9a721f9bda40"
 },
 "nbformat": 3,
 "nbformat_minor": 0,
 "worksheets": [
  {
   "cells": [
    {
     "cell_type": "markdown",
     "metadata": {},
     "source": [
      "# LBP for image segmentation\n",
      "\n",
      "This notebook shows how to set up an MRF for a vision problem."
     ]
    },
    {
     "cell_type": "markdown",
     "metadata": {},
     "source": [
      "## Introduction\n",
      "\n",
      "To segment an image into foreground and background, we can try to label each pixel as `'0'` (background), or `'1'` (foreground).\n",
      "We therefore have one random variable for each observed pixel, and one random variable for for each unobserved pixel label.\n",
      "\n",
      "If we assume that labels are independent of pixel values and other labels given their neighbours, we get a grid of labels. Let us also assume that the observed pixel values are independent given the labels."
     ]
    },
    {
     "cell_type": "markdown",
     "metadata": {},
     "source": [
      "### Parameters example\n",
      "Since we will have many factors of the same form, let's template them.\n",
      "\n",
      "Each entry in the potential table can be associated with a parameter, for example:"
     ]
    },
    {
     "cell_type": "code",
     "collapsed": false,
     "input": [
      "import numpy as np\n",
      "from pyugm.factor import DiscreteFactor\n",
      "\n",
      "# Specify the parameters (should be the same shape as the potential table would have been)\n",
      "factor_parameters = np.array([['theta_0', 'theta_1'], ['theta_2', 'theta_3']])  \n",
      "variables_names_and_cardinalities = [(1, 2), (2, 2)]\n",
      "# Construct the factor\n",
      "factor = DiscreteFactor(variables_names_and_cardinalities, parameters=factor_parameters)\n",
      "print factor"
     ],
     "language": "python",
     "metadata": {},
     "outputs": [
      {
       "output_type": "stream",
       "stream": "stdout",
       "text": [
        "F{1, 2}\n"
       ]
      }
     ],
     "prompt_number": 1
    },
    {
     "cell_type": "code",
     "collapsed": false,
     "input": [
      "# The factor still has its default potential table (all ones)\n",
      "factor.data"
     ],
     "language": "python",
     "metadata": {},
     "outputs": [
      {
       "metadata": {},
       "output_type": "pyout",
       "prompt_number": 2,
       "text": [
        "array([[ 1.,  1.],\n",
        "       [ 1.,  1.]])"
       ]
      }
     ],
     "prompt_number": 2
    },
    {
     "cell_type": "markdown",
     "metadata": {},
     "source": [
      "Now we can set the parameters..."
     ]
    },
    {
     "cell_type": "code",
     "collapsed": false,
     "input": [
      "# Potentials are filled with the exponent of the parameters.\n",
      "factor.set_parameters({'theta_0': np.log(2), 'theta_1': np.log(0.2), 'theta_2': np.log(5), 'theta_3': np.log(1)})\n",
      "factor.data"
     ],
     "language": "python",
     "metadata": {},
     "outputs": [
      {
       "metadata": {},
       "output_type": "pyout",
       "prompt_number": 3,
       "text": [
        "array([[ 2. ,  0.2],\n",
        "       [ 5. ,  1. ]])"
       ]
      }
     ],
     "prompt_number": 3
    },
    {
     "cell_type": "markdown",
     "metadata": {},
     "source": [
      "...and later reset them to something else:"
     ]
    },
    {
     "cell_type": "code",
     "collapsed": false,
     "input": [
      "factor.set_parameters({'theta_0': np.log(1), 'theta_1': np.log(2), 'theta_2': np.log(1), 'theta_3': np.log(1)})\n",
      "factor.data"
     ],
     "language": "python",
     "metadata": {},
     "outputs": [
      {
       "metadata": {},
       "output_type": "pyout",
       "prompt_number": 4,
       "text": [
        "array([[ 1.,  2.],\n",
        "       [ 1.,  1.]])"
       ]
      }
     ],
     "prompt_number": 4
    },
    {
     "cell_type": "markdown",
     "metadata": {},
     "source": [
      "### Parameter tying example\n",
      "\n",
      "The same parameter name can also be specified more than once to force the table to fill different cells with the same value. "
     ]
    },
    {
     "cell_type": "code",
     "collapsed": false,
     "input": [
      "factor_parameters = np.array([['theta_0', 'theta_1'], ['theta_0', 'theta_0']])  \n",
      "factor = DiscreteFactor([(1, 2), (2, 2)], parameters=factor_parameters)\n",
      "factor.set_parameters({'theta_0': np.log(3), 'theta_1': np.log(5)})\n",
      "print factor.data"
     ],
     "language": "python",
     "metadata": {},
     "outputs": [
      {
       "output_type": "stream",
       "stream": "stdout",
       "text": [
        "[[ 3.  5.]\n",
        " [ 3.  3.]]\n"
       ]
      }
     ],
     "prompt_number": 5
    },
    {
     "cell_type": "markdown",
     "metadata": {},
     "source": [
      "## Baseline model\n",
      "\n",
      "For a baseline, let's classify pixels as background and foreground based only on their intensity."
     ]
    },
    {
     "cell_type": "code",
     "collapsed": false,
     "input": [
      "import pickle\n",
      "import matplotlib.pyplot as plt\n",
      "import matplotlib\n",
      "%matplotlib inline\n",
      "\n",
      "# Load pre-discretized image. Each pixel value is an integer between 0 and 32.\n",
      "image = pickle.load(open('test_image.pkl'))\n",
      "plt.figure(figsize=(14, 3))\n",
      "plt.subplot(1, 2, 1)\n",
      "_ = plt.imshow(image, cmap=matplotlib.cm.Greys_r, interpolation='nearest')\n",
      "_ = plt.title('Image')\n",
      "plt.subplot(1, 2, 2)\n",
      "_ = plt.hist(image.flatten(), bins=32, color=(0.5, 0.5, 0.5))\n",
      "_ = plt.title('Pixel intensity histogram')"
     ],
     "language": "python",
     "metadata": {},
     "outputs": [
      {
       "metadata": {},
       "output_type": "display_data",
       "png": "[encoded data removed]",
       "text": [
        "<matplotlib.figure.Figure at 0x105e94a90>"
       ]
      }
     ],
     "prompt_number": 6
    },
    {
     "cell_type": "markdown",
     "metadata": {},
     "source": [
      "Let's make a template where the probability that a pixel is foreground or background is different \n",
      "given that the pixels intensities are either between 13 and 17 or not."
     ]
    },
    {
     "cell_type": "code",
     "collapsed": false,
     "input": [
      "observation_template = np.array([['obs_low'] * 32,\n",
      "                                 ['obs_high'] * 32])\n",
      "observation_template[0, 13:17] = 'obs_high'\n",
      "observation_template[1, 13:17] = 'obs_low'"
     ],
     "language": "python",
     "metadata": {},
     "outputs": [],
     "prompt_number": 7
    },
    {
     "cell_type": "markdown",
     "metadata": {},
     "source": [
      "Each observed pixel variable occurs in the same factor as its label."
     ]
    },
    {
     "cell_type": "code",
     "collapsed": false,
     "input": [
      "I, J = image.shape\n",
      "factors = []\n",
      "evidence = {}\n",
      "\n",
      "# Add observation factors\n",
      "for i in xrange(I):\n",
      "    for j in xrange(J):\n",
      "        label_variable_name = 'label_{}_{}'.format(i, j)\n",
      "        observation_variable_name = 'obs_{}_{}'.format(i,j)\n",
      "        factors.append(DiscreteFactor([(label_variable_name, 2), (observation_variable_name, 32)], parameters=observation_template))\n",
      "        evidence[observation_variable_name] = image[i, j]"
     ],
     "language": "python",
     "metadata": {},
     "outputs": [],
     "prompt_number": 8
    },
    {
     "cell_type": "markdown",
     "metadata": {},
     "source": [
      "### Build the model"
     ]
    },
    {
     "cell_type": "code",
     "collapsed": false,
     "input": [
      "from pyugm.model import Model\n",
      "model = Model(factors)"
     ],
     "language": "python",
     "metadata": {},
     "outputs": [],
     "prompt_number": 9
    },
    {
     "cell_type": "markdown",
     "metadata": {},
     "source": [
      "### Choose parameters and set the evidence\n",
      "\n",
      "Give a higher probability of seeing background pixel intensities of 13 to 17 than foreground intensities in that range."
     ]
    },
    {
     "cell_type": "code",
     "collapsed": false,
     "input": [
      "parameters = {'obs_high': 0.1, 'obs_low': -1.0}\n",
      "model.set_parameters(parameters)\n",
      "model.set_evidence(evidence)"
     ],
     "language": "python",
     "metadata": {},
     "outputs": [],
     "prompt_number": 10
    },
    {
     "cell_type": "markdown",
     "metadata": {},
     "source": [
      "### Run belief updates"
     ]
    },
    {
     "cell_type": "code",
     "collapsed": false,
     "input": [
      "from pyugm.infer_message import LoopyBeliefUpdateInference\n",
      "from pyugm.infer_message import FloodingProtocol\n",
      "\n",
      "inference = LoopyBeliefUpdateInference(model)\n",
      "order = FloodingProtocol(model, max_iterations=30)"
     ],
     "language": "python",
     "metadata": {},
     "outputs": [],
     "prompt_number": 13
    },
    {
     "cell_type": "code",
     "collapsed": false,
     "input": [
      "inference.calibrate(update_order=order)"
     ],
     "language": "python",
     "metadata": {},
     "outputs": [
      {
       "metadata": {},
       "output_type": "pyout",
       "prompt_number": 14,
       "text": [
        "(0, 0)"
       ]
      }
     ],
     "prompt_number": 14
    },
    {
     "cell_type": "markdown",
     "metadata": {},
     "source": [
      "### Visualise"
     ]
    },
    {
     "cell_type": "code",
     "collapsed": false,
     "input": [
      "labels = np.zeros(image.shape)\n",
      "for i in xrange(I):\n",
      "    for j in xrange(J):\n",
      "        variable_name = 'label_{}_{}'.format(i, j)\n",
      "        label_factor = model.get_marginals(variable_name)[0]\n",
      "        labels[i, j] = label_factor.normalized_data[0] "
     ],
     "language": "python",
     "metadata": {},
     "outputs": [],
     "prompt_number": 15
    },
    {
     "cell_type": "code",
     "collapsed": false,
     "input": [
      "plt.figure(figsize=(14, 3))\n",
      "plt.subplot(1, 3, 1)\n",
      "_ = plt.imshow(image, cmap=matplotlib.cm.Greys_r, interpolation='nearest')\n",
      "_ = plt.title('Image')\n",
      "plt.subplot(1, 3, 2)\n",
      "_ = plt.imshow(labels, cmap=matplotlib.cm.Greys, interpolation='nearest')\n",
      "_ = plt.title('Image')"
     ],
     "language": "python",
     "metadata": {},
     "outputs": [
      {
       "metadata": {},
       "output_type": "display_data",
       "png": "[encoded data removed]",
       "text": [
        "<matplotlib.figure.Figure at 0x107377e50>"
       ]
      }
     ],
     "prompt_number": 16
    },
    {
     "cell_type": "markdown",
     "metadata": {},
     "source": [
      "## Connecting some of the labels\n",
      "\n",
      "Now we can start to think how the factors must be filled to nudge neighbouring labels to be similar and smooth out the baseline a bit.\n",
      "\n",
      "The label can take on one of two values (background or foreground). Additionally, a variable and one of its neighbours occur together in a factor.\n",
      "\n",
      "Let's add one parameter for when these two variables' labels are the same and one for when they are different."
     ]
    },
    {
     "cell_type": "markdown",
     "metadata": {},
     "source": [
      "### Template"
     ]
    },
    {
     "cell_type": "code",
     "collapsed": true,
     "input": [
      "label_template = np.array([['same', 'different'], \n",
      "                           ['different', 'same']])"
     ],
     "language": "python",
     "metadata": {},
     "outputs": [],
     "prompt_number": 31
    },
    {
     "cell_type": "code",
     "collapsed": false,
     "input": [
      "observation_template = np.array([['obs_low', 'obs_high'],\n",
      "                                 ['obs_high', 'obs_low']])"
     ],
     "language": "python",
     "metadata": {},
     "outputs": [],
     "prompt_number": 55
    },
    {
     "cell_type": "markdown",
     "metadata": {},
     "source": [
      "### Factors\n",
      "\n",
      "Before building a model where each label is connected to all of its neighbours, let's first only connect the top and bottom neighbour. Pixel columns are thus connected."
     ]
    },
    {
     "cell_type": "code",
     "collapsed": false,
     "input": [
      "evidence = {}\n",
      "factors = []"
     ],
     "language": "python",
     "metadata": {},
     "outputs": [],
     "prompt_number": 71
    },
    {
     "cell_type": "code",
     "collapsed": false,
     "input": [
      "# Add observation factors\n",
      "for i in xrange(I):\n",
      "    for j in xrange(J):\n",
      "        label_variable_name = 'label_{}_{}'.format(i, j)\n",
      "        observation_variable_name = 'obs_{}_{}'.format(i, j)\n",
      "        factors.append(DiscreteFactor([(label_variable_name, 2), (observation_variable_name, 2)], parameters=observation_template))\n",
      "        evidence[observation_variable_name] = 0 if image[i, j] >= 13 and image[i, j] < 17 else 1\n",
      "        \n",
      "# Add label factors\n",
      "for i in xrange(I):\n",
      "    for j in xrange(J):\n",
      "        variable_name = 'label_{}_{}'.format(i, j)\n",
      "        if i + 1 < I:\n",
      "            neighbour_down_name = 'label_{}_{}'.format(i + 1, j)\n",
      "            factors.append(DiscreteFactor([(variable_name, 2), (neighbour_down_name, 2)], parameters=label_template))"
     ],
     "language": "python",
     "metadata": {},
     "outputs": [],
     "prompt_number": 72
    },
    {
     "cell_type": "markdown",
     "metadata": {},
     "source": [
      "### Model\n",
      "\n",
      "Add the factors to a model."
     ]
    },
    {
     "cell_type": "code",
     "collapsed": false,
     "input": [
      "model = Model(factors)"
     ],
     "language": "python",
     "metadata": {},
     "outputs": [],
     "prompt_number": 73
    },
    {
     "cell_type": "markdown",
     "metadata": {},
     "source": [
      "### Choose parameters\n",
      "\n",
      "Lets choose parameters so that neighbouring labels are encouraged to be the same, and observations between 13 and 17 more likely\n",
      "to be background."
     ]
    },
    {
     "cell_type": "code",
     "collapsed": false,
     "input": [
      "parameters = {'same': 2.0, 'different': -1.0, 'obs_high': 1.0, 'obs_low': -0.0}\n",
      "model.set_parameters(parameters)\n",
      "model.set_evidence(evidence)"
     ],
     "language": "python",
     "metadata": {},
     "outputs": [],
     "prompt_number": 74
    },
    {
     "cell_type": "markdown",
     "metadata": {},
     "source": [
      "### Run belief updates"
     ]
    },
    {
     "cell_type": "code",
     "collapsed": false,
     "input": [
      "from pyugm.infer_message import TreeBeliefUpdateInference\n",
      "from pyugm.infer_message import DistributeCollectProtocol\n",
      "\n",
      "from pyugm.infer_message import LoopyBeliefUpdateInference\n",
      "from pyugm.infer_message import FloodingProtocol, LoopyDistributeCollectProtocol\n",
      "# Get some feedback on how inference is converging by listening in on some of the label beliefs.\n",
      "var_values = {'label_1_1': [], 'label_10_10': [], 'label_20_20': [], 'label_30_30': [], 'label_40_40': []}\n",
      "changes = []\n",
      "def reporter(ordering):\n",
      "    for var in var_values.keys():\n",
      "        marginal = model.get_marginals(var)[0].data[0]\n",
      "        var_values[var].append(marginal)\n",
      "    change = ordering.current_iteration_delta\n",
      "    changes.append(change)\n",
      "    print ordering.total_iterations, change, marginal\n",
      "    \n",
      "#inference = TreeBeliefUpdateInference(model)\n",
      "#order = DistributeCollectProtocol(model)\n",
      "inference = LoopyBeliefUpdateInference(model)\n",
      "order = FloodingProtocol(model, max_iterations=114, callback=reporter)"
     ],
     "language": "python",
     "metadata": {},
     "outputs": [],
     "prompt_number": 75
    },
    {
     "cell_type": "code",
     "collapsed": false,
     "input": [
      "inference.calibrate(update_order=order)"
     ],
     "language": "python",
     "metadata": {},
     "outputs": [
      {
       "output_type": "stream",
       "stream": "stdout",
       "text": [
        "1 19522.0525049 0.0291765960388\n",
        "2"
       ]
      },
      {
       "output_type": "stream",
       "stream": "stdout",
       "text": [
        " 974.057597258 0.0143845498584\n",
        "3"
       ]
      },
      {
       "output_type": "stream",
       "stream": "stdout",
       "text": [
        " 349.667887052 0.00890431095606\n",
        "4"
       ]
      },
      {
       "output_type": "stream",
       "stream": "stdout",
       "text": [
        " 149.277395203 0.00500191190506\n",
        "5"
       ]
      },
      {
       "output_type": "stream",
       "stream": "stdout",
       "text": [
        " 74.1142444186 0.00500191190506\n",
        "6"
       ]
      },
      {
       "output_type": "stream",
       "stream": "stdout",
       "text": [
        " 40.1821103095 0.00486233507631\n",
        "7"
       ]
      },
      {
       "output_type": "stream",
       "stream": "stdout",
       "text": [
        " 21.6407713054 0.00341818034126\n",
        "8"
       ]
      },
      {
       "output_type": "stream",
       "stream": "stdout",
       "text": [
        " 13.2696706695 0.00341818034126\n",
        "9"
       ]
      },
      {
       "output_type": "stream",
       "stream": "stdout",
       "text": [
        " 7.24697577108 0.00341818034126\n",
        "10"
       ]
      },
      {
       "output_type": "stream",
       "stream": "stdout",
       "text": [
        " 5.0500590424 0.00341652839312\n",
        "11"
       ]
      },
      {
       "output_type": "stream",
       "stream": "stdout",
       "text": [
        " 3.20231882177 0.0043191705303\n",
        "12"
       ]
      },
      {
       "output_type": "stream",
       "stream": "stdout",
       "text": [
        " 1.84918797237 0.0043191705303\n",
        "13"
       ]
      },
      {
       "output_type": "stream",
       "stream": "stdout",
       "text": [
        " 1.098220335 0.00431890140626\n",
        "14"
       ]
      },
      {
       "output_type": "stream",
       "stream": "stdout",
       "text": [
        " 0.458282922772 0.00431890140626\n",
        "15"
       ]
      },
      {
       "output_type": "stream",
       "stream": "stdout",
       "text": [
        " 0.282035382028 0.00431888822102\n",
        "16"
       ]
      },
      {
       "output_type": "stream",
       "stream": "stdout",
       "text": [
        " 0.216415348754 0.00433891300356\n",
        "17"
       ]
      },
      {
       "output_type": "stream",
       "stream": "stdout",
       "text": [
        " 0.0981949754762 0.00433891300356\n",
        "18"
       ]
      },
      {
       "output_type": "stream",
       "stream": "stdout",
       "text": [
        " 0.0311331605172 0.00433891232279\n",
        "19"
       ]
      },
      {
       "output_type": "stream",
       "stream": "stdout",
       "text": [
        " 0.0150870193923 0.00433891232279\n",
        "20"
       ]
      },
      {
       "output_type": "stream",
       "stream": "stdout",
       "text": [
        " 0.0108418725286 0.00433927701428\n",
        "21"
       ]
      },
      {
       "output_type": "stream",
       "stream": "stdout",
       "text": [
        " 0.00465834837534 0.00433927701428\n",
        "22"
       ]
      },
      {
       "output_type": "stream",
       "stream": "stdout",
       "text": [
        " 0.00224010702825 0.00433927701428\n",
        "23"
       ]
      },
      {
       "output_type": "stream",
       "stream": "stdout",
       "text": [
        " 0.00129303599661 0.00433927701428\n",
        "24"
       ]
      },
      {
       "output_type": "stream",
       "stream": "stdout",
       "text": [
        " 0.00130038489156 0.00433928334718\n",
        "25"
       ]
      },
      {
       "output_type": "stream",
       "stream": "stdout",
       "text": [
        " 0.000823517831803 0.00433928334555\n",
        "26"
       ]
      },
      {
       "output_type": "stream",
       "stream": "stdout",
       "text": [
        " 0.000207927592365 0.00433928367152\n",
        "27"
       ]
      },
      {
       "output_type": "stream",
       "stream": "stdout",
       "text": [
        " 7.53292195847e-05 0.00433928367152\n",
        "28"
       ]
      },
      {
       "output_type": "stream",
       "stream": "stdout",
       "text": [
        " 3.59280608415e-05 0.00433928367152\n",
        "29"
       ]
      },
      {
       "output_type": "stream",
       "stream": "stdout",
       "text": [
        " 2.33186931482e-05 0.00433928367152\n",
        "30"
       ]
      },
      {
       "output_type": "stream",
       "stream": "stdout",
       "text": [
        " 2.49781220178e-05 0.00433928367152\n",
        "31"
       ]
      },
      {
       "output_type": "stream",
       "stream": "stdout",
       "text": [
        " 2.32986346078e-06 0.00433928367152\n",
        "32"
       ]
      },
      {
       "output_type": "stream",
       "stream": "stdout",
       "text": [
        " 2.02060691067e-06 0.00433928367152\n",
        "33"
       ]
      },
      {
       "output_type": "stream",
       "stream": "stdout",
       "text": [
        " 4.73810374718e-07 0.00433928367152\n",
        "34"
       ]
      },
      {
       "output_type": "stream",
       "stream": "stdout",
       "text": [
        " 1.91217191045e-07 0.00433928367152\n",
        "35"
       ]
      },
      {
       "output_type": "stream",
       "stream": "stdout",
       "text": [
        " 9.58322629288e-08 0.00433928367152\n",
        "36"
       ]
      },
      {
       "output_type": "stream",
       "stream": "stdout",
       "text": [
        " 7.50685978737e-08 0.00433928367152\n",
        "37"
       ]
      },
      {
       "output_type": "stream",
       "stream": "stdout",
       "text": [
        " 8.32014670918e-09 0.00433928367152\n",
        "38"
       ]
      },
      {
       "output_type": "stream",
       "stream": "stdout",
       "text": [
        " 6.94659443596e-09 0.00433928367152\n",
        "39"
       ]
      },
      {
       "output_type": "stream",
       "stream": "stdout",
       "text": [
        " 6.44876957823e-09 0.00433928367152\n",
        "40"
       ]
      },
      {
       "output_type": "stream",
       "stream": "stdout",
       "text": [
        " 2.7712742138e-09 0.00433928367152\n",
        "41"
       ]
      },
      {
       "output_type": "stream",
       "stream": "stdout",
       "text": [
        " 7.62236915079e-10 0.00433928367152\n",
        "42"
       ]
      },
      {
       "output_type": "stream",
       "stream": "stdout",
       "text": [
        " 2.38989898834e-10 0.00433928367152\n",
        "43"
       ]
      },
      {
       "output_type": "stream",
       "stream": "stdout",
       "text": [
        " 2.18008952904e-10 0.00433928367152\n",
        "44"
       ]
      },
      {
       "output_type": "stream",
       "stream": "stdout",
       "text": [
        " 1.75258915453e-10 0.00433928367152\n",
        "45"
       ]
      },
      {
       "output_type": "stream",
       "stream": "stdout",
       "text": [
        " 1.65381846455e-10 0.00433928367152\n",
        "46"
       ]
      },
      {
       "output_type": "stream",
       "stream": "stdout",
       "text": [
        " 5.486614418e-12 0.00433928367152\n"
       ]
      },
      {
       "metadata": {},
       "output_type": "pyout",
       "prompt_number": 76,
       "text": [
        "(5.4866144180015786e-12, 46)"
       ]
      }
     ],
     "prompt_number": 76
    },
    {
     "cell_type": "markdown",
     "metadata": {},
     "source": [
      "### Visualise"
     ]
    },
    {
     "cell_type": "code",
     "collapsed": false,
     "input": [
      "labels = np.zeros(image.shape)\n",
      "labels2 = np.zeros(image.shape)\n",
      "for i in xrange(I):\n",
      "    for j in xrange(J):\n",
      "        variable_name = 'label_{}_{}'.format(i, j)\n",
      "        label_factor = model.get_marginals(variable_name)[0]\n",
      "        labels[i, j] = label_factor.normalized_data[0] \n",
      "        \n",
      "        label_factor = model.get_marginals(variable_name)[1]\n",
      "        labels2[i, j] = label_factor.normalized_data[0] "
     ],
     "language": "python",
     "metadata": {},
     "outputs": [],
     "prompt_number": 77
    },
    {
     "cell_type": "code",
     "collapsed": false,
     "input": [
      "plt.figure(figsize=(14, 13))\n",
      "plt.subplot(1, 3, 1)\n",
      "_ = plt.imshow(image, cmap=matplotlib.cm.Greys_r, interpolation='nearest')\n",
      "_ = plt.title('Image')\n",
      "plt.subplot(1, 3, 2)\n",
      "_ = plt.imshow(labels, cmap=matplotlib.cm.Greys, interpolation='nearest')\n",
      "_ = plt.title('Image')\n",
      "plt.subplot(1, 3, 3)\n",
      "_ = plt.imshow(labels2, cmap=matplotlib.cm.Greys, interpolation='nearest')\n",
      "_ = plt.title('Image')\n",
      "#_ = plt.imshow(labels > 0.10 , cmap=matplotlib.cm.Greys, interpolation='nearest')\n",
      "#_ = plt.title('Image')"
     ],
     "language": "python",
     "metadata": {},
     "outputs": [
      {
       "metadata": {},
       "output_type": "display_data",
       "png": "[encoded data removed]",
       "text": [
        "<matplotlib.figure.Figure at 0x10b1cb190>"
       ]
      }
     ],
     "prompt_number": 78
    },
    {
     "cell_type": "code",
     "collapsed": false,
     "input": [
      "image[:, 10]"
     ],
     "language": "python",
     "metadata": {},
     "outputs": [
      {
       "metadata": {},
       "output_type": "pyout",
       "prompt_number": 64,
       "text": [
        "array([ 16.,  16.,  14.,  13.,  15.,  16.,  14.,  13.,  15.,  16.,  15.,\n",
        "        13.,  14.,  16.,  16.,  15.,  13.,  13.,  14.,  14.,  13.,  14.,\n",
        "        14.,  14.,  14.,  14.,  14.,  14.,  14.,  14.,  14.,  14.,  14.,\n",
        "        14.,  14.,  14.,  14.,  14.,  14.,  14.,  14.,   9.,   4.,   4.,\n",
        "         4.,   4.,   5.,   3.,   2.,   3.,   2.,   3.,   3.,   3.,   3.,\n",
        "         3.,   3.,   3.,   3.,   4.,   4.,   5.,   5.,   5.], dtype=float16)"
       ]
      }
     ],
     "prompt_number": 64
    },
    {
     "cell_type": "code",
     "collapsed": false,
     "input": [
      "for i in xrange(10):\n",
      "    for j in xrange(10):\n",
      "        variable_name = 'label_{}_{}'.format(i, j)\n",
      "        em = model.get_marginals(variable_name)[0]\n",
      "        for label_factor in model.get_marginals(variable_name):\n",
      "            if sum(abs(em.normalized_data - label_factor.normalized_data)) > 0.05:\n",
      "                print label_factor, i, j, label_factor.normalized_data[0], em.normalized_data[0]"
     ],
     "language": "python",
     "metadata": {},
     "outputs": [],
     "prompt_number": 65
    },
    {
     "cell_type": "markdown",
     "metadata": {},
     "source": [
      "## Connecting more of the labels\n",
      "\n",
      "Let's also connect up the rows, to form a grid of labels."
     ]
    },
    {
     "cell_type": "code",
     "collapsed": false,
     "input": [
      "evidence = {}\n",
      "factors = []\n",
      "# Add observation factors\n",
      "for i in xrange(I):\n",
      "    for j in xrange(J):\n",
      "        label_variable_name = 'label_{}_{}'.format(i, j)\n",
      "        observation_variable_name = 'obs_{}_{}'.format(i, j)\n",
      "        factors.append(DiscreteFactor([(label_variable_name, 2), (observation_variable_name, 2)], parameters=observation_template))\n",
      "        #evidence[observation_variable_name] = image[i, j]\n",
      "        evidence[observation_variable_name] = 0 if image[i, j] >= 13 and image[i, j] < 17 else 1\n",
      "        \n",
      "# Add label factors\n",
      "for i in xrange(I):\n",
      "    for j in xrange(J):\n",
      "        variable_name = 'label_{}_{}'.format(i, j)\n",
      "        if i + 1 < I:\n",
      "            neighbour_down_name = 'label_{}_{}'.format(i + 1, j)\n",
      "            factors.append(DiscreteFactor([(variable_name, 2), (neighbour_down_name, 2)], parameters=label_template))\n",
      "        if j + 1 < J:\n",
      "            neighbour_right_name = 'label_{}_{}'.format(i, j + 1)\n",
      "            factors.append(DiscreteFactor([(variable_name, 2), (neighbour_right_name, 2)], parameters=label_template))"
     ],
     "language": "python",
     "metadata": {},
     "outputs": [],
     "prompt_number": 79
    },
    {
     "cell_type": "markdown",
     "metadata": {},
     "source": [
      "### Model\n",
      "\n",
      "Build the model."
     ]
    },
    {
     "cell_type": "code",
     "collapsed": false,
     "input": [
      "model = Model(factors)\n",
      "parameters = {'same': -0.1, 'different': 1.0, 'obs_high': 1.0, 'obs_low': -0.0}\n",
      "model.set_parameters(parameters)\n",
      "model.set_evidence(evidence)"
     ],
     "language": "python",
     "metadata": {},
     "outputs": [],
     "prompt_number": 128
    },
    {
     "cell_type": "markdown",
     "metadata": {},
     "source": [
      "### Run belief updates"
     ]
    },
    {
     "cell_type": "code",
     "collapsed": false,
     "input": [
      "from pyugm.infer_message import LoopyBeliefUpdateInference\n",
      "from pyugm.infer_message import FloodingProtocol, LoopyDistributeCollectProtocol\n",
      "\n",
      "inference = LoopyBeliefUpdateInference(model)\n",
      "\n",
      "# Get some feedback on how inference is converging by listening in on some of the label beliefs.\n",
      "var_values = {'label_1_1': [], 'label_10_10': [], 'label_20_20': [], 'label_30_30': [], 'label_40_40': []}\n",
      "changes = []\n",
      "def reporter(ordering):\n",
      "    for var in var_values.keys():\n",
      "        marginal = model.get_marginals(var)[0].data[0]\n",
      "        var_values[var].append(marginal)\n",
      "    change = ordering.current_iteration_delta\n",
      "    changes.append(change)\n",
      "    print ordering.total_iterations, change, marginal\n",
      "    \n",
      "#order = LoopyDistributeCollectProtocol(model, max_iterations=10, callback=reporter)\n",
      "order = FloodingProtocol(model, max_iterations=14, callback=reporter)"
     ],
     "language": "python",
     "metadata": {},
     "outputs": [],
     "prompt_number": 129
    },
    {
     "cell_type": "code",
     "collapsed": true,
     "input": [
      "inference.calibrate(update_order=order, damping=0.0)"
     ],
     "language": "python",
     "metadata": {},
     "outputs": [
      {
       "output_type": "stream",
       "stream": "stdout",
       "text": [
        "1 16675.9134912 0.37077881608\n",
        "2"
       ]
      },
      {
       "output_type": "stream",
       "stream": "stdout",
       "text": [
        " 1855.52564047 0.404376806551\n",
        "3"
       ]
      },
      {
       "output_type": "stream",
       "stream": "stdout",
       "text": [
        " 1306.3352947 0.674717695774\n",
        "4"
       ]
      },
      {
       "output_type": "stream",
       "stream": "stdout",
       "text": [
        " 1039.19687923 0.628985551575\n",
        "5"
       ]
      },
      {
       "output_type": "stream",
       "stream": "stdout",
       "text": [
        " 803.546522145 0.71412738675\n",
        "6"
       ]
      },
      {
       "output_type": "stream",
       "stream": "stdout",
       "text": [
        " 675.90498937 0.721441958969\n",
        "7"
       ]
      },
      {
       "output_type": "stream",
       "stream": "stdout",
       "text": [
        " 594.479395651 0.742358116266\n",
        "8"
       ]
      },
      {
       "output_type": "stream",
       "stream": "stdout",
       "text": [
        " 533.67722835 0.765443309162\n",
        "9"
       ]
      },
      {
       "output_type": "stream",
       "stream": "stdout",
       "text": [
        " 473.379624247 0.837087737035\n",
        "10"
       ]
      },
      {
       "output_type": "stream",
       "stream": "stdout",
       "text": [
        " 419.733787664 0.858305135013\n",
        "11"
       ]
      },
      {
       "output_type": "stream",
       "stream": "stdout",
       "text": [
        " 358.018337787 0.876685497378\n",
        "12"
       ]
      },
      {
       "output_type": "stream",
       "stream": "stdout",
       "text": [
        " 302.20153816 0.89898061038\n",
        "13"
       ]
      },
      {
       "output_type": "stream",
       "stream": "stdout",
       "text": [
        " 250.525461858 0.901528069681\n",
        "14"
       ]
      },
      {
       "output_type": "stream",
       "stream": "stdout",
       "text": [
        " 210.953490974 0.907549951365\n",
        "15"
       ]
      },
      {
       "output_type": "stream",
       "stream": "stdout",
       "text": [
        " 180.621824409 0.909028942869\n"
       ]
      },
      {
       "metadata": {},
       "output_type": "pyout",
       "prompt_number": 130,
       "text": [
        "(180.62182440939986, 15)"
       ]
      }
     ],
     "prompt_number": 130
    },
    {
     "cell_type": "markdown",
     "metadata": {},
     "source": [
      "### Is BP converging?\n",
      "\n",
      "We can check that the total change in belief becomes less after each iteration:"
     ]
    },
    {
     "cell_type": "code",
     "collapsed": false,
     "input": [
      "_ = plt.plot([np.log(change) for change in changes])\n",
      "_ = plt.ylabel('Log of total belief change')\n",
      "_ = plt.xlabel('Iteration number')"
     ],
     "language": "python",
     "metadata": {},
     "outputs": [
      {
       "metadata": {},
       "output_type": "display_data",
       "png": "[encoded data removed]",
       "text": [
        "<matplotlib.figure.Figure at 0x1072b0890>"
       ]
      }
     ],
     "prompt_number": 131
    },
    {
     "cell_type": "markdown",
     "metadata": {},
     "source": [
      "And here are the beliefs for a few variables:"
     ]
    },
    {
     "cell_type": "code",
     "collapsed": false,
     "input": [
      "for key, value in var_values.items():\n",
      "    plt.plot(value)\n",
      "_ = plt.ylabel('Normalized belief that the variable equals 0')\n",
      "_ = plt.xlabel('Iteration number')"
     ],
     "language": "python",
     "metadata": {},
     "outputs": [
      {
       "metadata": {},
       "output_type": "display_data",
       "png": "[encoded data removed]",
       "text": [
        "<matplotlib.figure.Figure at 0x107269a50>"
       ]
      }
     ],
     "prompt_number": 132
    },
    {
     "cell_type": "markdown",
     "metadata": {},
     "source": [
      "### Visualise the beliefs"
     ]
    },
    {
     "cell_type": "code",
     "collapsed": false,
     "input": [
      "labels = np.zeros(image.shape)\n",
      "for i in xrange(I):\n",
      "    for j in xrange(J):\n",
      "        variable_name = 'label_{}_{}'.format(i, j)\n",
      "        label_factor = model.get_marginals(variable_name)[0]\n",
      "        labels[i, j] = label_factor.normalized_data[0] "
     ],
     "language": "python",
     "metadata": {},
     "outputs": [],
     "prompt_number": 133
    },
    {
     "cell_type": "code",
     "collapsed": false,
     "input": [
      "plt.figure(figsize=(14, 3))\n",
      "plt.subplot(1, 3, 1)\n",
      "_ = plt.imshow(image, cmap=matplotlib.cm.Greys_r, interpolation='nearest')\n",
      "_ = plt.title('Image')\n",
      "plt.subplot(1, 3, 2)\n",
      "_ = plt.imshow(labels, cmap=matplotlib.cm.Greys, interpolation='nearest')\n",
      "_ = plt.title('Image')\n",
      "plt.subplot(1, 3, 3)\n",
      "_ = plt.imshow(labels > 0.50 , cmap=matplotlib.cm.Greys, interpolation='nearest')\n",
      "_ = plt.title('Image')"
     ],
     "language": "python",
     "metadata": {},
     "outputs": [
      {
       "metadata": {},
       "output_type": "display_data",
       "png": "[encoded data removed]",
       "text": [
        "<matplotlib.figure.Figure at 0x10b80b510>"
       ]
      }
     ],
     "prompt_number": 134
    },
    {
     "cell_type": "markdown",
     "metadata": {},
     "source": [
      "Although belief propagation seems to converge, the beliefs are far from the marginals we expect [want]."
     ]
    },
    {
     "cell_type": "markdown",
     "metadata": {},
     "source": [
      "## Larger clusters\n",
      "\n",
      "Lets enlarge the cluster sizes to see whether belief propagation gives better results then.\n",
      "\n",
      "### Template\n",
      "\n",
      "The parameter templates must of course also be enlarged. "
     ]
    },
    {
     "cell_type": "code",
     "collapsed": false,
     "input": [
      "label_template = np.array(['dummy values'] * 32).reshape(2, 2, 2, 2, 2)\n",
      "for i1 in xrange(2):\n",
      "    for i2 in xrange(2):\n",
      "        for i3 in xrange(2):\n",
      "            for i4 in xrange(2):\n",
      "                for i5 in xrange(2):\n",
      "                    same_num = 0\n",
      "                    if (i1 + i2) % 2 == 0:\n",
      "                        same_num += 1\n",
      "                    else:\n",
      "                        same_num -= 1\n",
      "                    if (i1 + i3) % 2 == 0:\n",
      "                        same_num += 1\n",
      "                    else:\n",
      "                        same_num -= 1\n",
      "                    if (i1 + i4) % 2 == 0:\n",
      "                        same_num += 1\n",
      "                    else:\n",
      "                        same_num -= 1\n",
      "                    if (i1 + i5) % 2 == 0:\n",
      "                        same_num += 1\n",
      "                    else:\n",
      "                        same_num -= 1\n",
      "                    \n",
      "                    if same_num > 0:\n",
      "                        label_template[i1, i2, i3, i4, i5] = 'same'\n",
      "                    elif same_num < 0:\n",
      "                        label_template[i1, i2, i3, i4, i5] = 'different'\n",
      "                    else:\n",
      "                        label_template[i1, i2, i3, i4, i5] = 'neutral'\n",
      "                        \n",
      "print label_template"
     ],
     "language": "python",
     "metadata": {},
     "outputs": [
      {
       "output_type": "stream",
       "stream": "stdout",
       "text": [
        "[[[[['same' 'different']\n",
        "    ['same' 'different']]\n",
        "\n",
        "   [['same' 'different']\n",
        "    ['neutral' 'neutral']]]\n",
        "\n",
        "\n",
        "  [[['same' 'different']\n",
        "    ['neutral' 'neutral']]\n",
        "\n",
        "   [['neutral' 'neutral']\n",
        "    ['different' 'same']]]]\n",
        "\n",
        "\n",
        "\n",
        " [[[['same' 'different']\n",
        "    ['neutral' 'neutral']]\n",
        "\n",
        "   [['neutral' 'neutral']\n",
        "    ['different' 'same']]]\n",
        "\n",
        "\n",
        "  [[['neutral' 'neutral']\n",
        "    ['different' 'same']]\n",
        "\n",
        "   [['different' 'same']\n",
        "    ['different' 'same']]]]]\n"
       ]
      }
     ],
     "prompt_number": 263
    },
    {
     "cell_type": "markdown",
     "metadata": {},
     "source": [
      "### Factors and model\n",
      "\n",
      "Instead of two two-variables factor per grid position, we now add only one five-variable factor."
     ]
    },
    {
     "cell_type": "code",
     "collapsed": false,
     "input": [
      "evidence = {}\n",
      "factors = []\n",
      "# Add observation factors\n",
      "for i in xrange(I):\n",
      "    for j in xrange(J):\n",
      "        label_variable_name = 'label_{}_{}'.format(i, j)\n",
      "        observation_variable_name = 'obs_{}_{}'.format(i, j)\n",
      "        factors.append(DiscreteFactor([(label_variable_name, 2), (observation_variable_name, 32)], parameters=observation_template))\n",
      "        evidence[observation_variable_name] = image[i, j]\n",
      "        \n",
      "# Add label factors\n",
      "for i in xrange(1, I - 1):\n",
      "    for j in xrange(1, J - 1):\n",
      "        variable_name = 'label_{}_{}'.format(i, j)\n",
      "        neighbour_down_name = 'label_{}_{}'.format(i + 1, j)\n",
      "        neighbour_up_name = 'label_{}_{}'.format(i - 1, j)\n",
      "        neighbour_right_name = 'label_{}_{}'.format(i, j + 1)\n",
      "        neighbour_left_name = 'label_{}_{}'.format(i, j - 1)\n",
      "        \n",
      "        factors.append(DiscreteFactor([(variable_name, 2), (neighbour_down_name, 2), (neighbour_left_name, 2),\n",
      "                                       (neighbour_up_name, 2), (neighbour_right_name, 2)], parameters=label_template))"
     ],
     "language": "python",
     "metadata": {},
     "outputs": [],
     "prompt_number": 131
    },
    {
     "cell_type": "code",
     "collapsed": false,
     "input": [
      "parameters = {'same': 2.0, 'different': -1.0, 'neutral': 0.0, 'obs_high': 0.1, 'obs_low': -1.0}\n",
      "model.set_parameters(parameters)\n",
      "model.set_evidence(evidence)\n",
      "model = Model(factors)"
     ],
     "language": "python",
     "metadata": {},
     "outputs": [],
     "prompt_number": 256
    },
    {
     "cell_type": "markdown",
     "metadata": {},
     "source": [
      "### Run inference\n",
      "\n",
      "Same as before. (This time I found that more damping worked better)"
     ]
    },
    {
     "cell_type": "code",
     "collapsed": false,
     "input": [
      "from pyugm.infer import LoopyBeliefUpdateInference\n",
      "from pyugm.infer import FloodingProtocol, LoopyDistributeCollectProtocol\n",
      "\n",
      "inference = LoopyBeliefUpdateInference(model)\n",
      "\n",
      "# Get some feedback on how inference is converging by listening in on some of the label beliefs.\n",
      "var_values = {'label_1_1': [], 'label_10_10': [], 'label_20_20': [], 'label_30_30': [], 'label_40_40': []}\n",
      "changes = []\n",
      "def reporter(ordering):\n",
      "    for var in var_values.keys():\n",
      "        marginal = model.get_marginals(var)[0].data[0]\n",
      "        var_values[var].append(marginal)\n",
      "    change = ordering.current_iteration_delta\n",
      "    changes.append(change)\n",
      "    print ordering.total_iterations, change, marginal\n",
      "    \n",
      "order = FloodingProtocol(model, max_iterations=244, callback=reporter)"
     ],
     "language": "python",
     "metadata": {},
     "outputs": [],
     "prompt_number": 257
    },
    {
     "cell_type": "code",
     "collapsed": true,
     "input": [
      "inference.calibrate(update_order=order, damping=0.5)"
     ],
     "language": "python",
     "metadata": {},
     "outputs": [
      {
       "output_type": "stream",
       "stream": "stdout",
       "text": [
        "1 78656.917873 0.628230618336\n",
        "2"
       ]
      },
      {
       "output_type": "stream",
       "stream": "stdout",
       "text": [
        " 1338.47585534 0.638609294153\n",
        "3"
       ]
      },
      {
       "output_type": "stream",
       "stream": "stdout",
       "text": [
        " 890.777604555 0.650050697246\n",
        "4"
       ]
      },
      {
       "output_type": "stream",
       "stream": "stdout",
       "text": [
        " 582.138827656 0.660139279764\n",
        "5"
       ]
      },
      {
       "output_type": "stream",
       "stream": "stdout",
       "text": [
        " 430.608827384 0.668062937426\n",
        "6"
       ]
      },
      {
       "output_type": "stream",
       "stream": "stdout",
       "text": [
        " 352.764315526 0.671483803752\n",
        "7"
       ]
      },
      {
       "output_type": "stream",
       "stream": "stdout",
       "text": [
        " 319.831784182 0.672698460314\n",
        "8"
       ]
      },
      {
       "output_type": "stream",
       "stream": "stdout",
       "text": [
        " 297.071085949 0.676883707053\n",
        "9"
       ]
      },
      {
       "output_type": "stream",
       "stream": "stdout",
       "text": [
        " 261.759208878 0.6819105615\n",
        "10"
       ]
      },
      {
       "output_type": "stream",
       "stream": "stdout",
       "text": [
        " 229.242926779 0.686407733766\n",
        "11"
       ]
      },
      {
       "output_type": "stream",
       "stream": "stdout",
       "text": [
        " 205.076588507 0.687855273216\n",
        "12"
       ]
      },
      {
       "output_type": "stream",
       "stream": "stdout",
       "text": [
        " 189.067842378 0.688718821182\n",
        "13"
       ]
      },
      {
       "output_type": "stream",
       "stream": "stdout",
       "text": [
        " 180.480796406 0.689077036835\n",
        "14"
       ]
      },
      {
       "output_type": "stream",
       "stream": "stdout",
       "text": [
        " 178.727947858 0.688500344308\n",
        "15"
       ]
      },
      {
       "output_type": "stream",
       "stream": "stdout",
       "text": [
        " 177.768984294 0.68772651638\n",
        "16"
       ]
      },
      {
       "output_type": "stream",
       "stream": "stdout",
       "text": [
        " 178.39968238 0.687743318243\n",
        "17"
       ]
      },
      {
       "output_type": "stream",
       "stream": "stdout",
       "text": [
        " 180.706178535 0.685487391395\n",
        "18"
       ]
      },
      {
       "output_type": "stream",
       "stream": "stdout",
       "text": [
        " 179.631403905 0.682738875553\n",
        "19"
       ]
      },
      {
       "output_type": "stream",
       "stream": "stdout",
       "text": [
        " 182.745014192 0.679845099546\n",
        "20"
       ]
      },
      {
       "output_type": "stream",
       "stream": "stdout",
       "text": [
        " 183.330960332 0.675639698932\n",
        "21"
       ]
      },
      {
       "output_type": "stream",
       "stream": "stdout",
       "text": [
        " 187.23555593 0.672109590749\n",
        "22"
       ]
      },
      {
       "output_type": "stream",
       "stream": "stdout",
       "text": [
        " 188.190176857 0.66921632223\n",
        "23"
       ]
      },
      {
       "output_type": "stream",
       "stream": "stdout",
       "text": [
        " 191.485373733 0.665916431509\n",
        "24"
       ]
      },
      {
       "output_type": "stream",
       "stream": "stdout",
       "text": [
        " 195.897546028 0.660399168392\n",
        "25"
       ]
      },
      {
       "output_type": "stream",
       "stream": "stdout",
       "text": [
        " 200.461569983 0.649517825373\n",
        "26"
       ]
      },
      {
       "output_type": "stream",
       "stream": "stdout",
       "text": [
        " 205.707617095 0.642592945387\n",
        "27"
       ]
      },
      {
       "output_type": "stream",
       "stream": "stdout",
       "text": [
        " 210.270328445 0.637961329732\n",
        "28"
       ]
      },
      {
       "output_type": "stream",
       "stream": "stdout",
       "text": [
        " 214.524783709 0.629220304756\n",
        "29"
       ]
      },
      {
       "output_type": "stream",
       "stream": "stdout",
       "text": [
        " 217.096708953 0.622002826328\n",
        "30"
       ]
      },
      {
       "output_type": "stream",
       "stream": "stdout",
       "text": [
        " 222.160229963 0.613623182056\n",
        "31"
       ]
      },
      {
       "output_type": "stream",
       "stream": "stdout",
       "text": [
        " 225.258515992 0.606026626871\n",
        "32"
       ]
      },
      {
       "output_type": "stream",
       "stream": "stdout",
       "text": [
        " 228.530208915 0.598875026725\n",
        "33"
       ]
      },
      {
       "output_type": "stream",
       "stream": "stdout",
       "text": [
        " 231.682041631 0.592926370776\n",
        "34"
       ]
      },
      {
       "output_type": "stream",
       "stream": "stdout",
       "text": [
        " 234.541363782 0.583815626245\n",
        "35"
       ]
      },
      {
       "output_type": "stream",
       "stream": "stdout",
       "text": [
        " 237.812017613 0.577433780461\n",
        "36"
       ]
      },
      {
       "output_type": "stream",
       "stream": "stdout",
       "text": [
        " 241.892372261 0.567360389314\n",
        "37"
       ]
      },
      {
       "output_type": "stream",
       "stream": "stdout",
       "text": [
        " 245.313852178 0.56142927706\n",
        "38"
       ]
      },
      {
       "output_type": "stream",
       "stream": "stdout",
       "text": [
        " 248.99462562 0.555043103824\n",
        "39"
       ]
      },
      {
       "output_type": "stream",
       "stream": "stdout",
       "text": [
        " 249.43415723 0.5506111123\n",
        "40"
       ]
      },
      {
       "output_type": "stream",
       "stream": "stdout",
       "text": [
        " 253.093342421 0.545071050358\n",
        "41"
       ]
      },
      {
       "output_type": "stream",
       "stream": "stdout",
       "text": [
        " 254.566171148 0.539053724672\n",
        "42"
       ]
      },
      {
       "output_type": "stream",
       "stream": "stdout",
       "text": [
        " 254.762299129 0.534252571885\n",
        "43"
       ]
      },
      {
       "output_type": "stream",
       "stream": "stdout",
       "text": [
        " 254.344537371 0.530114885843\n",
        "44"
       ]
      },
      {
       "output_type": "stream",
       "stream": "stdout",
       "text": [
        " 253.823522876 0.525889776062\n",
        "45"
       ]
      },
      {
       "output_type": "stream",
       "stream": "stdout",
       "text": [
        " 250.987451432 0.523892573423\n",
        "46"
       ]
      },
      {
       "output_type": "stream",
       "stream": "stdout",
       "text": [
        " 249.082100798 0.520754725218\n",
        "47"
       ]
      },
      {
       "output_type": "stream",
       "stream": "stdout",
       "text": [
        " 245.103501186 0.518247788972\n",
        "48"
       ]
      },
      {
       "output_type": "stream",
       "stream": "stdout",
       "text": [
        " 242.378195838 0.516878977505\n",
        "49"
       ]
      },
      {
       "output_type": "stream",
       "stream": "stdout",
       "text": [
        " 238.26382348 0.514276963808\n",
        "50"
       ]
      },
      {
       "output_type": "stream",
       "stream": "stdout",
       "text": [
        " 230.13553556 0.513164508886\n",
        "51"
       ]
      },
      {
       "output_type": "stream",
       "stream": "stdout",
       "text": [
        " 225.161480125 0.51123351019\n",
        "52"
       ]
      },
      {
       "output_type": "stream",
       "stream": "stdout",
       "text": [
        " 217.53056181 0.510258015327\n",
        "53"
       ]
      },
      {
       "output_type": "stream",
       "stream": "stdout",
       "text": [
        " 210.455730585 0.509891352386\n",
        "54"
       ]
      },
      {
       "output_type": "stream",
       "stream": "stdout",
       "text": [
        " 201.927803347 0.509338789889\n",
        "55"
       ]
      },
      {
       "output_type": "stream",
       "stream": "stdout",
       "text": [
        " 193.560793583 0.508792763359\n",
        "56"
       ]
      },
      {
       "output_type": "stream",
       "stream": "stdout",
       "text": [
        " 186.749038586 0.50813011633\n",
        "57"
       ]
      },
      {
       "output_type": "stream",
       "stream": "stdout",
       "text": [
        " 177.307244713 0.507607106875\n",
        "58"
       ]
      },
      {
       "output_type": "stream",
       "stream": "stdout",
       "text": [
        " 171.054238776 0.507374373746\n",
        "59"
       ]
      },
      {
       "output_type": "stream",
       "stream": "stdout",
       "text": [
        " 164.140911028 0.50713800126\n",
        "60"
       ]
      },
      {
       "output_type": "stream",
       "stream": "stdout",
       "text": [
        " 156.820248099 0.50686849503\n",
        "61"
       ]
      },
      {
       "output_type": "stream",
       "stream": "stdout",
       "text": [
        " 147.67217381 0.506339043418\n",
        "62"
       ]
      },
      {
       "output_type": "stream",
       "stream": "stdout",
       "text": [
        " 140.294348954 0.506075833952\n",
        "63"
       ]
      },
      {
       "output_type": "stream",
       "stream": "stdout",
       "text": [
        " 132.925283986 0.505902574686\n",
        "64"
       ]
      },
      {
       "output_type": "stream",
       "stream": "stdout",
       "text": [
        " 124.320836133 0.505681574274\n",
        "65"
       ]
      },
      {
       "output_type": "stream",
       "stream": "stdout",
       "text": [
        " 116.291303665 0.505476775457\n",
        "66"
       ]
      },
      {
       "output_type": "stream",
       "stream": "stdout",
       "text": [
        " 108.994946646 0.505215160047\n",
        "67"
       ]
      },
      {
       "output_type": "stream",
       "stream": "stdout",
       "text": [
        " 102.331567408 0.504723546799\n",
        "68"
       ]
      },
      {
       "output_type": "stream",
       "stream": "stdout",
       "text": [
        " 96.4535326519 0.504570259281\n",
        "69"
       ]
      },
      {
       "output_type": "stream",
       "stream": "stdout",
       "text": [
        " 91.7982752347 0.504307931777\n",
        "70"
       ]
      },
      {
       "output_type": "stream",
       "stream": "stdout",
       "text": [
        " 86.2852095035 0.504067432803\n",
        "71"
       ]
      },
      {
       "output_type": "stream",
       "stream": "stdout",
       "text": [
        " 81.4458165828 0.50371134292\n",
        "72"
       ]
      },
      {
       "output_type": "stream",
       "stream": "stdout",
       "text": [
        " 76.7386732194 0.50335222447\n",
        "73"
       ]
      },
      {
       "output_type": "stream",
       "stream": "stdout",
       "text": [
        " 72.937958935 0.502925300077\n",
        "74"
       ]
      },
      {
       "output_type": "stream",
       "stream": "stdout",
       "text": [
        " 68.9351183499 0.502450480356\n",
        "75"
       ]
      },
      {
       "output_type": "stream",
       "stream": "stdout",
       "text": [
        " 64.1654528711 0.501952463542\n",
        "76"
       ]
      },
      {
       "output_type": "stream",
       "stream": "stdout",
       "text": [
        " 59.67389978 0.501724158032\n",
        "77"
       ]
      },
      {
       "output_type": "stream",
       "stream": "stdout",
       "text": [
        " 56.1391368209 0.501542552049\n",
        "78"
       ]
      },
      {
       "output_type": "stream",
       "stream": "stdout",
       "text": [
        " 52.3423901566 0.501175056269\n",
        "79"
       ]
      },
      {
       "output_type": "stream",
       "stream": "stdout",
       "text": [
        " 49.303865376 0.500981172852\n",
        "80"
       ]
      },
      {
       "output_type": "stream",
       "stream": "stdout",
       "text": [
        " 46.9233513835 0.500695738809\n",
        "81"
       ]
      },
      {
       "output_type": "stream",
       "stream": "stdout",
       "text": [
        " 43.4842298774 0.500542867909\n",
        "82"
       ]
      },
      {
       "output_type": "stream",
       "stream": "stdout",
       "text": [
        " 40.902123138 0.50048353893\n",
        "83"
       ]
      },
      {
       "output_type": "stream",
       "stream": "stdout",
       "text": [
        " 38.3423830326 0.500388737372\n",
        "84"
       ]
      },
      {
       "output_type": "stream",
       "stream": "stdout",
       "text": [
        " 36.5183442163 0.500292674307\n",
        "85"
       ]
      },
      {
       "output_type": "stream",
       "stream": "stdout",
       "text": [
        " 34.0131421625 0.500226384691\n",
        "86"
       ]
      },
      {
       "output_type": "stream",
       "stream": "stdout",
       "text": [
        " 31.5523141494 0.500185027373\n",
        "87"
       ]
      },
      {
       "output_type": "stream",
       "stream": "stdout",
       "text": [
        " 29.8121835523 0.50016314327\n",
        "88"
       ]
      },
      {
       "output_type": "stream",
       "stream": "stdout",
       "text": [
        " 27.6436995119 0.500151868662\n",
        "89"
       ]
      },
      {
       "output_type": "stream",
       "stream": "stdout",
       "text": [
        " 25.8369757244 0.500136553613\n",
        "90"
       ]
      },
      {
       "output_type": "stream",
       "stream": "stdout",
       "text": [
        " 24.3568833608 0.500124602753\n",
        "91"
       ]
      },
      {
       "output_type": "stream",
       "stream": "stdout",
       "text": [
        " 23.2676678453 0.500114013153\n",
        "92"
       ]
      },
      {
       "output_type": "stream",
       "stream": "stdout",
       "text": [
        " 22.1038445826 0.500104317107\n",
        "93"
       ]
      },
      {
       "output_type": "stream",
       "stream": "stdout",
       "text": [
        " 20.9544768915 0.50009940298\n",
        "94"
       ]
      },
      {
       "output_type": "stream",
       "stream": "stdout",
       "text": [
        " 20.0005879825 0.500095027402\n",
        "95"
       ]
      },
      {
       "output_type": "stream",
       "stream": "stdout",
       "text": [
        " 19.1485133234 0.500091316811\n",
        "96"
       ]
      },
      {
       "output_type": "stream",
       "stream": "stdout",
       "text": [
        " 18.0054356946 0.500090082007\n",
        "97"
       ]
      },
      {
       "output_type": "stream",
       "stream": "stdout",
       "text": [
        " 17.1770367881 0.500089153852\n",
        "98"
       ]
      },
      {
       "output_type": "stream",
       "stream": "stdout",
       "text": [
        " 16.6028982696 0.500087905515\n",
        "99"
       ]
      },
      {
       "output_type": "stream",
       "stream": "stdout",
       "text": [
        " 15.4645835477 0.500087311429\n",
        "100"
       ]
      },
      {
       "output_type": "stream",
       "stream": "stdout",
       "text": [
        " 14.6062424352 0.500086565183\n",
        "101"
       ]
      },
      {
       "output_type": "stream",
       "stream": "stdout",
       "text": [
        " 14.2389753718 0.500086358974\n",
        "102"
       ]
      },
      {
       "output_type": "stream",
       "stream": "stdout",
       "text": [
        " 13.5887683208 0.500085692836\n",
        "103"
       ]
      },
      {
       "output_type": "stream",
       "stream": "stdout",
       "text": [
        " 13.4632986114 0.500085370889\n"
       ]
      },
      {
       "output_type": "stream",
       "stream": "stdout",
       "text": [
        "104 12.7426596 0.500084757425\n",
        "105"
       ]
      },
      {
       "output_type": "stream",
       "stream": "stdout",
       "text": [
        " 12.4839786136 0.500084595362\n",
        "106"
       ]
      },
      {
       "output_type": "stream",
       "stream": "stdout",
       "text": [
        " 11.9471666282 0.500084510107\n",
        "107"
       ]
      },
      {
       "output_type": "stream",
       "stream": "stdout",
       "text": [
        " 11.7853979988 0.500084403766\n",
        "108"
       ]
      },
      {
       "output_type": "stream",
       "stream": "stdout",
       "text": [
        " 11.3969037765 0.500084300327\n",
        "109"
       ]
      },
      {
       "output_type": "stream",
       "stream": "stdout",
       "text": [
        " 11.3674581366 0.500084253787\n",
        "110"
       ]
      },
      {
       "output_type": "stream",
       "stream": "stdout",
       "text": [
        " 11.2472300695 0.500084214869\n",
        "111"
       ]
      },
      {
       "output_type": "stream",
       "stream": "stdout",
       "text": [
        " 10.7375321657 0.500084161683\n",
        "112"
       ]
      },
      {
       "output_type": "stream",
       "stream": "stdout",
       "text": [
        " 10.3609341678 0.500084133532\n",
        "113"
       ]
      },
      {
       "output_type": "stream",
       "stream": "stdout",
       "text": [
        " 10.2187904628 0.500084102352\n",
        "114"
       ]
      },
      {
       "output_type": "stream",
       "stream": "stdout",
       "text": [
        " 10.1414678813 0.500084081685\n",
        "115"
       ]
      },
      {
       "output_type": "stream",
       "stream": "stdout",
       "text": [
        " 9.78609621312 0.500084065104\n",
        "116"
       ]
      },
      {
       "output_type": "stream",
       "stream": "stdout",
       "text": [
        " 9.57626605108 0.500084049911\n",
        "117"
       ]
      },
      {
       "output_type": "stream",
       "stream": "stdout",
       "text": [
        " 9.43691996329 0.500084042084\n",
        "118"
       ]
      },
      {
       "output_type": "stream",
       "stream": "stdout",
       "text": [
        " 9.06264163857 0.500084029176\n",
        "119"
       ]
      },
      {
       "output_type": "stream",
       "stream": "stdout",
       "text": [
        " 8.84918689039 0.500084023542\n",
        "120"
       ]
      },
      {
       "output_type": "stream",
       "stream": "stdout",
       "text": [
        " 8.63965346142 0.500084018245\n",
        "121"
       ]
      },
      {
       "output_type": "stream",
       "stream": "stdout",
       "text": [
        " 8.67072323519 0.500084012524\n",
        "122"
       ]
      },
      {
       "output_type": "stream",
       "stream": "stdout",
       "text": [
        " 8.31415180646 0.500084009293\n",
        "123"
       ]
      },
      {
       "output_type": "stream",
       "stream": "stdout",
       "text": [
        " 7.99265321191 0.500084005698\n",
        "124"
       ]
      },
      {
       "output_type": "stream",
       "stream": "stdout",
       "text": [
        " 8.04895951777 0.50008400159\n",
        "125"
       ]
      },
      {
       "output_type": "stream",
       "stream": "stdout",
       "text": [
        " 7.60128050653 0.500083999405\n",
        "126"
       ]
      },
      {
       "output_type": "stream",
       "stream": "stdout",
       "text": [
        " 7.11011015688 0.500083997084\n",
        "127"
       ]
      },
      {
       "output_type": "stream",
       "stream": "stdout",
       "text": [
        " 7.06877984545 0.500083995977\n",
        "128"
       ]
      },
      {
       "output_type": "stream",
       "stream": "stdout",
       "text": [
        " 6.65526170959 0.500083994214\n",
        "129"
       ]
      },
      {
       "output_type": "stream",
       "stream": "stdout",
       "text": [
        " 6.42655112364 0.500083993379\n",
        "130"
       ]
      },
      {
       "output_type": "stream",
       "stream": "stdout",
       "text": [
        " 6.21766030423 0.500083992444\n",
        "131"
       ]
      },
      {
       "output_type": "stream",
       "stream": "stdout",
       "text": [
        " 5.8902309045 0.500083991356\n",
        "132"
       ]
      },
      {
       "output_type": "stream",
       "stream": "stdout",
       "text": [
        " 5.70659256998 0.500083990705\n",
        "133"
       ]
      },
      {
       "output_type": "stream",
       "stream": "stdout",
       "text": [
        " 5.43460167136 0.500083989918\n",
        "134"
       ]
      },
      {
       "output_type": "stream",
       "stream": "stdout",
       "text": [
        " 5.29483898084 0.500083989587\n",
        "135"
       ]
      },
      {
       "output_type": "stream",
       "stream": "stdout",
       "text": [
        " 5.20218080163 0.500083989105\n",
        "136"
       ]
      },
      {
       "output_type": "stream",
       "stream": "stdout",
       "text": [
        " 5.12108720531 0.500083988703\n",
        "137"
       ]
      },
      {
       "output_type": "stream",
       "stream": "stdout",
       "text": [
        " 4.78716960589 0.500083988437\n",
        "138"
       ]
      },
      {
       "output_type": "stream",
       "stream": "stdout",
       "text": [
        " 4.72213667588 0.500083988095\n",
        "139"
       ]
      },
      {
       "output_type": "stream",
       "stream": "stdout",
       "text": [
        " 4.77379762183 0.5000839878\n",
        "140"
       ]
      },
      {
       "output_type": "stream",
       "stream": "stdout",
       "text": [
        " 4.6740096507 0.500083987594\n",
        "141"
       ]
      },
      {
       "output_type": "stream",
       "stream": "stdout",
       "text": [
        " 4.60004405769 0.500083987442\n",
        "142"
       ]
      },
      {
       "output_type": "stream",
       "stream": "stdout",
       "text": [
        " 4.46178449389 0.500083987301\n",
        "143"
       ]
      },
      {
       "output_type": "stream",
       "stream": "stdout",
       "text": [
        " 4.37466535248 0.50008398721\n",
        "144"
       ]
      },
      {
       "output_type": "stream",
       "stream": "stdout",
       "text": [
        " 4.33855824617 0.50008398707\n",
        "145"
       ]
      },
      {
       "output_type": "stream",
       "stream": "stdout",
       "text": [
        " 4.43511751961 0.500083987006\n",
        "146"
       ]
      },
      {
       "output_type": "stream",
       "stream": "stdout",
       "text": [
        " 4.24685330631 0.500083986919\n",
        "147"
       ]
      },
      {
       "output_type": "stream",
       "stream": "stdout",
       "text": [
        " 4.18878147842 0.500083986848\n",
        "148"
       ]
      },
      {
       "output_type": "stream",
       "stream": "stdout",
       "text": [
        " 4.08720946503 0.500083986808\n",
        "149"
       ]
      },
      {
       "output_type": "stream",
       "stream": "stdout",
       "text": [
        " 4.1699140477 0.500083986758\n",
        "150"
       ]
      },
      {
       "output_type": "stream",
       "stream": "stdout",
       "text": [
        " 3.95393511461 0.500083986702\n",
        "151"
       ]
      },
      {
       "output_type": "stream",
       "stream": "stdout",
       "text": [
        " 4.01625341466 0.50008398668\n",
        "152"
       ]
      },
      {
       "output_type": "stream",
       "stream": "stdout",
       "text": [
        " 4.05683074873 0.500083986653\n",
        "153"
       ]
      },
      {
       "output_type": "stream",
       "stream": "stdout",
       "text": [
        " 4.0789030559 0.500083986637\n",
        "154"
       ]
      },
      {
       "output_type": "stream",
       "stream": "stdout",
       "text": [
        " 4.12362789175 0.500083986628\n",
        "155"
       ]
      },
      {
       "output_type": "stream",
       "stream": "stdout",
       "text": [
        " 4.03685722996 0.50008398661\n",
        "156"
       ]
      },
      {
       "output_type": "stream",
       "stream": "stdout",
       "text": [
        " 4.05571823301 0.500083986601\n",
        "157"
       ]
      },
      {
       "output_type": "stream",
       "stream": "stdout",
       "text": [
        " 3.94873314879 0.500083986593\n",
        "158"
       ]
      },
      {
       "output_type": "stream",
       "stream": "stdout",
       "text": [
        " 3.87168977032 0.50008398659\n",
        "159"
       ]
      },
      {
       "output_type": "stream",
       "stream": "stdout",
       "text": [
        " 3.51185825666 0.500083986579\n",
        "160"
       ]
      },
      {
       "output_type": "stream",
       "stream": "stdout",
       "text": [
        " 3.46362542705 0.500083986568\n",
        "161"
       ]
      },
      {
       "output_type": "stream",
       "stream": "stdout",
       "text": [
        " 3.19702229301 0.500083986559\n",
        "162"
       ]
      },
      {
       "output_type": "stream",
       "stream": "stdout",
       "text": [
        " 2.96227836746 0.500083986549\n",
        "163"
       ]
      },
      {
       "output_type": "stream",
       "stream": "stdout",
       "text": [
        " 2.7841127727 0.500083986542\n",
        "164"
       ]
      },
      {
       "output_type": "stream",
       "stream": "stdout",
       "text": [
        " 2.61867633299 0.500083986544\n",
        "165"
       ]
      },
      {
       "output_type": "stream",
       "stream": "stdout",
       "text": [
        " 2.40860126844 0.500083986547\n",
        "166"
       ]
      },
      {
       "output_type": "stream",
       "stream": "stdout",
       "text": [
        " 2.22641876935 0.50008398655\n",
        "167"
       ]
      },
      {
       "output_type": "stream",
       "stream": "stdout",
       "text": [
        " 2.12050180849 0.500083986552\n",
        "168"
       ]
      },
      {
       "output_type": "stream",
       "stream": "stdout",
       "text": [
        " 2.00975503716 0.500083986553\n",
        "169"
       ]
      },
      {
       "output_type": "stream",
       "stream": "stdout",
       "text": [
        " 1.89823044922 0.500083986549\n",
        "170"
       ]
      },
      {
       "output_type": "stream",
       "stream": "stdout",
       "text": [
        " 1.83082435029 0.500083986547\n",
        "171"
       ]
      },
      {
       "output_type": "stream",
       "stream": "stdout",
       "text": [
        " 1.74269062462 0.500083986546\n",
        "172"
       ]
      },
      {
       "output_type": "stream",
       "stream": "stdout",
       "text": [
        " 1.67646559765 0.500083986545\n",
        "173"
       ]
      },
      {
       "output_type": "stream",
       "stream": "stdout",
       "text": [
        " 1.68190161611 0.500083986544\n",
        "174"
       ]
      },
      {
       "output_type": "stream",
       "stream": "stdout",
       "text": [
        " 1.58277526207 0.500083986545\n",
        "175"
       ]
      },
      {
       "output_type": "stream",
       "stream": "stdout",
       "text": [
        " 1.53866991518 0.500083986544\n",
        "176"
       ]
      },
      {
       "output_type": "stream",
       "stream": "stdout",
       "text": [
        " 1.49327461273 0.500083986544\n",
        "177"
       ]
      },
      {
       "output_type": "stream",
       "stream": "stdout",
       "text": [
        " 1.42648873585 0.50008398654\n",
        "178"
       ]
      },
      {
       "output_type": "stream",
       "stream": "stdout",
       "text": [
        " 1.43206418934 0.500083986542\n",
        "179"
       ]
      },
      {
       "output_type": "stream",
       "stream": "stdout",
       "text": [
        " 1.29247895569 0.500083986541\n",
        "180"
       ]
      },
      {
       "output_type": "stream",
       "stream": "stdout",
       "text": [
        " 1.30072052677 0.500083986543\n",
        "181"
       ]
      },
      {
       "output_type": "stream",
       "stream": "stdout",
       "text": [
        " 1.22124128266 0.500083986543\n",
        "182"
       ]
      },
      {
       "output_type": "stream",
       "stream": "stdout",
       "text": [
        " 1.20877938149 0.500083986544\n",
        "183"
       ]
      },
      {
       "output_type": "stream",
       "stream": "stdout",
       "text": [
        " 1.13089832718 0.500083986543\n",
        "184"
       ]
      },
      {
       "output_type": "stream",
       "stream": "stdout",
       "text": [
        " 1.08209955767 0.500083986541\n",
        "185"
       ]
      },
      {
       "output_type": "stream",
       "stream": "stdout",
       "text": [
        " 1.02576331209 0.500083986542\n",
        "186"
       ]
      },
      {
       "output_type": "stream",
       "stream": "stdout",
       "text": [
        " 0.981762764532 0.500083986544\n",
        "187"
       ]
      },
      {
       "output_type": "stream",
       "stream": "stdout",
       "text": [
        " 0.925069552806 0.500083986547\n",
        "188"
       ]
      },
      {
       "output_type": "stream",
       "stream": "stdout",
       "text": [
        " 0.900722730483 0.500083986548\n",
        "189"
       ]
      },
      {
       "output_type": "stream",
       "stream": "stdout",
       "text": [
        " 0.856726301218 0.500083986547\n",
        "190"
       ]
      },
      {
       "output_type": "stream",
       "stream": "stdout",
       "text": [
        " 0.83236622144 0.500083986548\n",
        "191"
       ]
      },
      {
       "output_type": "stream",
       "stream": "stdout",
       "text": [
        " 0.832684292255 0.500083986549\n",
        "192"
       ]
      },
      {
       "output_type": "stream",
       "stream": "stdout",
       "text": [
        " 0.912145415772 0.50008398655\n",
        "193"
       ]
      },
      {
       "output_type": "stream",
       "stream": "stdout",
       "text": [
        " 1.03264576049 0.500083986548\n",
        "194"
       ]
      },
      {
       "output_type": "stream",
       "stream": "stdout",
       "text": [
        " 1.21368118908 0.500083986547\n",
        "195"
       ]
      },
      {
       "output_type": "stream",
       "stream": "stdout",
       "text": [
        " 1.41577680015 0.500083986548\n",
        "196"
       ]
      },
      {
       "output_type": "stream",
       "stream": "stdout",
       "text": [
        " 1.60793582991 0.500083986552\n",
        "197"
       ]
      },
      {
       "output_type": "stream",
       "stream": "stdout",
       "text": [
        " 1.73900731395 0.500083986553\n",
        "198"
       ]
      },
      {
       "output_type": "stream",
       "stream": "stdout",
       "text": [
        " 1.80660428631 0.500083986554\n",
        "199"
       ]
      },
      {
       "output_type": "stream",
       "stream": "stdout",
       "text": [
        " 1.8666947828 0.500083986552\n",
        "200"
       ]
      },
      {
       "output_type": "stream",
       "stream": "stdout",
       "text": [
        " 1.90477132678 0.500083986552\n",
        "201"
       ]
      },
      {
       "output_type": "stream",
       "stream": "stdout",
       "text": [
        " 1.89627232232 0.500083986549\n",
        "202"
       ]
      },
      {
       "output_type": "stream",
       "stream": "stdout",
       "text": [
        " 1.92442654812 0.500083986551\n",
        "203"
       ]
      },
      {
       "output_type": "stream",
       "stream": "stdout",
       "text": [
        " 1.92657289522 0.50008398655\n",
        "204"
       ]
      },
      {
       "output_type": "stream",
       "stream": "stdout",
       "text": [
        " 1.91784083439 0.500083986549\n",
        "205"
       ]
      },
      {
       "output_type": "stream",
       "stream": "stdout",
       "text": [
        " 1.92038397909 0.500083986549\n",
        "206"
       ]
      },
      {
       "output_type": "stream",
       "stream": "stdout",
       "text": [
        " 1.95360426491 0.500083986548\n",
        "207"
       ]
      },
      {
       "output_type": "stream",
       "stream": "stdout",
       "text": [
        " 1.96053170843 0.500083986547\n",
        "208"
       ]
      },
      {
       "output_type": "stream",
       "stream": "stdout",
       "text": [
        " 1.9592710337 0.500083986547\n",
        "209"
       ]
      },
      {
       "output_type": "stream",
       "stream": "stdout",
       "text": [
        " 1.96175956549 0.50008398655\n",
        "210"
       ]
      },
      {
       "output_type": "stream",
       "stream": "stdout",
       "text": [
        " 1.98041904085 0.500083986552\n",
        "211"
       ]
      },
      {
       "output_type": "stream",
       "stream": "stdout",
       "text": [
        " 2.01111199823 0.500083986551\n",
        "212"
       ]
      },
      {
       "output_type": "stream",
       "stream": "stdout",
       "text": [
        " 2.01699697329 0.500083986551\n",
        "213"
       ]
      },
      {
       "output_type": "stream",
       "stream": "stdout",
       "text": [
        " 2.01224886884 0.50008398655\n",
        "214"
       ]
      },
      {
       "output_type": "stream",
       "stream": "stdout",
       "text": [
        " 2.05218248106 0.50008398655\n",
        "215"
       ]
      },
      {
       "output_type": "stream",
       "stream": "stdout",
       "text": [
        " 2.05568950796 0.50008398655\n",
        "216"
       ]
      },
      {
       "output_type": "stream",
       "stream": "stdout",
       "text": [
        " 2.16245322371 0.500083986551\n",
        "217"
       ]
      },
      {
       "output_type": "stream",
       "stream": "stdout",
       "text": [
        " 2.23288376365 0.500083986553\n",
        "218"
       ]
      },
      {
       "output_type": "stream",
       "stream": "stdout",
       "text": [
        " 2.41840399502 0.500083986552\n",
        "219"
       ]
      },
      {
       "output_type": "stream",
       "stream": "stdout",
       "text": [
        " 2.62524393293 0.500083986553\n",
        "220"
       ]
      },
      {
       "output_type": "stream",
       "stream": "stdout",
       "text": [
        " 3.01407478702 0.500083986553\n",
        "221"
       ]
      },
      {
       "output_type": "stream",
       "stream": "stdout",
       "text": [
        " 3.51299582719 0.500083986553\n",
        "222"
       ]
      },
      {
       "output_type": "stream",
       "stream": "stdout",
       "text": [
        " 4.10580846256 0.500083986553\n",
        "223"
       ]
      },
      {
       "output_type": "stream",
       "stream": "stdout",
       "text": [
        " 4.72471400164 0.500083986552\n",
        "224"
       ]
      },
      {
       "output_type": "stream",
       "stream": "stdout",
       "text": [
        " 5.3852836433 0.500083986551\n",
        "225"
       ]
      },
      {
       "output_type": "stream",
       "stream": "stdout",
       "text": [
        " 6.0226735617 0.50008398655\n",
        "226"
       ]
      },
      {
       "output_type": "stream",
       "stream": "stdout",
       "text": [
        " 6.66526921775 0.500083986552\n",
        "227"
       ]
      },
      {
       "output_type": "stream",
       "stream": "stdout",
       "text": [
        " 7.38567139195 0.500083986551\n",
        "228"
       ]
      },
      {
       "output_type": "stream",
       "stream": "stdout",
       "text": [
        " 8.0774779295 0.500083986551\n",
        "229"
       ]
      },
      {
       "output_type": "stream",
       "stream": "stdout",
       "text": [
        " 8.77116597489 0.500083986551\n",
        "230"
       ]
      },
      {
       "output_type": "stream",
       "stream": "stdout",
       "text": [
        " 9.41484800182 0.500083986551\n",
        "231"
       ]
      },
      {
       "output_type": "stream",
       "stream": "stdout",
       "text": [
        " 9.99130913986 0.500083986552\n",
        "232"
       ]
      },
      {
       "output_type": "stream",
       "stream": "stdout",
       "text": [
        " 10.5505495837 0.500083986552\n",
        "233"
       ]
      },
      {
       "output_type": "stream",
       "stream": "stdout",
       "text": [
        " 11.1598257475 0.500083986552\n",
        "234"
       ]
      },
      {
       "output_type": "stream",
       "stream": "stdout",
       "text": [
        " 11.804399402 0.500083986552\n",
        "235"
       ]
      },
      {
       "output_type": "stream",
       "stream": "stdout",
       "text": [
        " 12.5931762576 0.500083986551\n",
        "236"
       ]
      },
      {
       "output_type": "stream",
       "stream": "stdout",
       "text": [
        " 13.3578956409 0.500083986551\n",
        "237"
       ]
      },
      {
       "output_type": "stream",
       "stream": "stdout",
       "text": [
        " 14.1008656157 0.500083986553\n",
        "238"
       ]
      },
      {
       "output_type": "stream",
       "stream": "stdout",
       "text": [
        " 14.8544921648 0.500083986552\n",
        "239"
       ]
      },
      {
       "output_type": "stream",
       "stream": "stdout",
       "text": [
        " 15.6191132978 0.500083986552\n",
        "240"
       ]
      },
      {
       "output_type": "stream",
       "stream": "stdout",
       "text": [
        " 16.6491344186 0.500083986553\n",
        "241"
       ]
      },
      {
       "output_type": "stream",
       "stream": "stdout",
       "text": [
        " 17.6575710485 0.500083986553\n",
        "242"
       ]
      },
      {
       "output_type": "stream",
       "stream": "stdout",
       "text": [
        " 18.8019083018 0.500083986552\n",
        "243"
       ]
      },
      {
       "output_type": "stream",
       "stream": "stdout",
       "text": [
        " 19.8595431605 0.500083986552\n",
        "244"
       ]
      },
      {
       "output_type": "stream",
       "stream": "stdout",
       "text": [
        " 20.8427782445 0.500083986552\n",
        "245"
       ]
      },
      {
       "output_type": "stream",
       "stream": "stdout",
       "text": [
        " 21.6358337488 0.500083986552\n"
       ]
      },
      {
       "metadata": {},
       "output_type": "pyout",
       "prompt_number": 258,
       "text": [
        "(21.635833748759229, 245)"
       ]
      }
     ],
     "prompt_number": 258
    },
    {
     "cell_type": "code",
     "collapsed": false,
     "input": [
      "_ = plt.plot([np.log(change) for change in changes])\n",
      "_ = plt.ylabel('Log of total belief change')\n",
      "_ = plt.xlabel('Iteration number')"
     ],
     "language": "python",
     "metadata": {},
     "outputs": [
      {
       "metadata": {},
       "output_type": "display_data",
       "png": "[encoded data removed]",
       "text": [
        "<matplotlib.figure.Figure at 0x10e878890>"
       ]
      }
     ],
     "prompt_number": 259
    },
    {
     "cell_type": "code",
     "collapsed": false,
     "input": [
      "for key, value in var_values.items():\n",
      "    plt.plot(value)\n",
      "_ = plt.ylabel('Normalized belief that the variable equals 0')\n",
      "_ = plt.xlabel('Iteration number')"
     ],
     "language": "python",
     "metadata": {},
     "outputs": [
      {
       "metadata": {},
       "output_type": "display_data",
       "png": "[encoded data removed]",
       "text": [
        "<matplotlib.figure.Figure at 0x10b31f650>"
       ]
      }
     ],
     "prompt_number": 260
    },
    {
     "cell_type": "markdown",
     "metadata": {},
     "source": [
      "### Visualize the beliefs"
     ]
    },
    {
     "cell_type": "code",
     "collapsed": false,
     "input": [
      "labels = np.zeros(image.shape)\n",
      "for i in xrange(I):\n",
      "    for j in xrange(J):\n",
      "        variable_name = 'label_{}_{}'.format(i, j)\n",
      "        label_factor = model.get_marginals(variable_name)[0]\n",
      "        labels[i, j] = label_factor.normalized_data[0] "
     ],
     "language": "python",
     "metadata": {},
     "outputs": [],
     "prompt_number": 261
    },
    {
     "cell_type": "code",
     "collapsed": false,
     "input": [
      "plt.figure(figsize=(14, 3))\n",
      "plt.subplot(1, 3, 1)\n",
      "_ = plt.imshow(image, cmap=matplotlib.cm.Greys_r, interpolation='nearest')\n",
      "_ = plt.title('Image')\n",
      "plt.subplot(1, 3, 2)\n",
      "_ = plt.imshow(labels, cmap=matplotlib.cm.Greys, interpolation='nearest')\n",
      "_ = plt.title('Image')\n",
      "plt.subplot(1, 3, 3)\n",
      "_ = plt.imshow(labels > 0.33 , cmap=matplotlib.cm.Greys, interpolation='nearest')\n",
      "_ = plt.title('Image')"
     ],
     "language": "python",
     "metadata": {},
     "outputs": [
      {
       "metadata": {},
       "output_type": "display_data",
       "png": "[encoded data removed]",
       "text": [
        "<matplotlib.figure.Figure at 0x10a21c350>"
       ]
      }
     ],
     "prompt_number": 262
    },
    {
     "cell_type": "markdown",
     "metadata": {},
     "source": [
      "## Conclusion\n",
      "\n",
      "To recap:\n",
      "\n",
      "- We compared four models on a simple segmentation task to demonstrate loopy belief propagation (LBP):\n",
      " 1. Baseline segmenting only using pixel intensities.\n",
      " 2. Labels columns connected pairwise.\n",
      " 3. Pairwise grid model.\n",
      " 4. Grid model where factors contain five label variables instead of two.\n",
      "- The column-connected model smoothed out the noise nicely.\n",
      "- LBP however failed to find beliefs on the grid model that looked as good - even though beliefs converged.\n",
      "- The picture improved somewhat with a the model with larger factors.\n",
      "\n",
      "LBP is known not to be a good way to do inference in grid-like graphs. To further tackle the problem I'll look at implementing structured variational inference or Gibbs sampling."
     ]
    }
   ],
   "metadata": {}
  }
 ]
}