{
 "metadata": {
  "name": "",
  "signature": "sha256:45dc36661331930825b2ccbb103ca2bcf95fd1c4fafa93913c4fbff2a6ab5ca1"
 },
 "nbformat": 3,
 "nbformat_minor": 0,
 "worksheets": [
  {
   "cells": [
    {
     "cell_type": "markdown",
     "metadata": {},
     "source": [
      "# LBP for image segmentation\n",
      "\n",
      "This notebook shows how to set up an MRF for a vision problem."
     ]
    },
    {
     "cell_type": "markdown",
     "metadata": {},
     "source": [
      "## Introduction\n",
      "\n",
      "To segment an image into foreground and background, we can try to label each pixel as `'0'` (background), or `'1'` (foreground).\n",
      "We therefore have one random variable for each observed pixel, and one random variable for for each unobserved pixel label.\n",
      "\n",
      "If we assume that labels are independent of pixel values and other labels given their neighbours, we get a grid of labels. Let us also assume that the observed pixel values are independent given the labels."
     ]
    },
    {
     "cell_type": "markdown",
     "metadata": {},
     "source": [
      "### Parameters example\n",
      "Since we will have many factors of the same form, let's template them.\n",
      "\n",
      "Each entry in the potential table can be associated with a parameter, for example:"
     ]
    },
    {
     "cell_type": "code",
     "collapsed": false,
     "input": [
      "import numpy as np\n",
      "from pyugm.factor import DiscreteFactor\n",
      "\n",
      "# Specify the parameters (should be the same shape as the potential table would have been)\n",
      "factor_parameters = np.array([['theta_0', 'theta_1'], ['theta_2', 'theta_3']])  \n",
      "variables_names_and_cardinalities = [(1, 2), (2, 2)]\n",
      "# Construct the factor\n",
      "factor = DiscreteFactor(variables_names_and_cardinalities, parameters=factor_parameters)\n",
      "print factor"
     ],
     "language": "python",
     "metadata": {},
     "outputs": [
      {
       "output_type": "stream",
       "stream": "stdout",
       "text": [
        "F{1, 2}\n"
       ]
      }
     ],
     "prompt_number": 1
    },
    {
     "cell_type": "code",
     "collapsed": false,
     "input": [
      "# The factor still has its default potential table (all ones)\n",
      "factor.data"
     ],
     "language": "python",
     "metadata": {},
     "outputs": [
      {
       "metadata": {},
       "output_type": "pyout",
       "prompt_number": 2,
       "text": [
        "array([[ 1.,  1.],\n",
        "       [ 1.,  1.]])"
       ]
      }
     ],
     "prompt_number": 2
    },
    {
     "cell_type": "markdown",
     "metadata": {},
     "source": [
      "Now we can set the parameters..."
     ]
    },
    {
     "cell_type": "code",
     "collapsed": false,
     "input": [
      "# Potentials are filled with the exponent of the parameters.\n",
      "factor.set_parameters({'theta_0': np.log(2), 'theta_1': np.log(0.2), 'theta_2': np.log(5), 'theta_3': np.log(1)})\n",
      "factor.data"
     ],
     "language": "python",
     "metadata": {},
     "outputs": [
      {
       "metadata": {},
       "output_type": "pyout",
       "prompt_number": 3,
       "text": [
        "array([[ 2. ,  0.2],\n",
        "       [ 5. ,  1. ]])"
       ]
      }
     ],
     "prompt_number": 3
    },
    {
     "cell_type": "markdown",
     "metadata": {},
     "source": [
      "...and later reset them to something else:"
     ]
    },
    {
     "cell_type": "code",
     "collapsed": false,
     "input": [
      "factor.set_parameters({'theta_0': np.log(1), 'theta_1': np.log(2), 'theta_2': np.log(1), 'theta_3': np.log(1)})\n",
      "factor.data"
     ],
     "language": "python",
     "metadata": {},
     "outputs": [
      {
       "metadata": {},
       "output_type": "pyout",
       "prompt_number": 4,
       "text": [
        "array([[ 1.,  2.],\n",
        "       [ 1.,  1.]])"
       ]
      }
     ],
     "prompt_number": 4
    },
    {
     "cell_type": "markdown",
     "metadata": {},
     "source": [
      "### Parameter tying example\n",
      "\n",
      "The same parameter name can also be specified more than once to force the table to fill different cells with the same value. "
     ]
    },
    {
     "cell_type": "code",
     "collapsed": false,
     "input": [
      "factor_parameters = np.array([['theta_0', 'theta_1'], ['theta_0', 'theta_0']])  \n",
      "factor = DiscreteFactor([(1, 2), (2, 2)], parameters=factor_parameters)\n",
      "factor.set_parameters({'theta_0': np.log(3), 'theta_1': np.log(5)})\n",
      "print factor.data"
     ],
     "language": "python",
     "metadata": {},
     "outputs": [
      {
       "output_type": "stream",
       "stream": "stdout",
       "text": [
        "[[ 3.  5.]\n",
        " [ 3.  3.]]\n"
       ]
      }
     ],
     "prompt_number": 5
    },
    {
     "cell_type": "markdown",
     "metadata": {},
     "source": [
      "## Baseline model\n",
      "\n",
      "For a baseline, let's classify pixels as background and foreground based only on their intensity."
     ]
    },
    {
     "cell_type": "code",
     "collapsed": false,
     "input": [
      "import pickle\n",
      "import matplotlib.pyplot as plt\n",
      "import matplotlib\n",
      "%matplotlib inline\n",
      "\n",
      "# Load pre-discretized image. Each pixel value is an integer between 0 and 32.\n",
      "image = pickle.load(open('test_image.pkl'))\n",
      "plt.figure(figsize=(14, 3))\n",
      "plt.subplot(1, 2, 1)\n",
      "_ = plt.imshow(image, cmap=matplotlib.cm.Greys_r, interpolation='nearest')\n",
      "_ = plt.title('Image')\n",
      "plt.subplot(1, 2, 2)\n",
      "_ = plt.hist(image.flatten(), bins=32, color=(0.5, 0.5, 0.5))\n",
      "_ = plt.title('Pixel intensity histogram')"
     ],
     "language": "python",
     "metadata": {},
     "outputs": [
      {
       "metadata": {},
       "output_type": "display_data",
       "png": "[encoded data removed]",
       "text": [
        "<matplotlib.figure.Figure at 0x105fbea90>"
       ]
      }
     ],
     "prompt_number": 6
    },
    {
     "cell_type": "markdown",
     "metadata": {},
     "source": [
      "Let's make a template where the probability that a pixel is foreground or background is different \n",
      "given that the pixels intensities are either between 13 and 17 or not."
     ]
    },
    {
     "cell_type": "code",
     "collapsed": false,
     "input": [
      "observation_template = np.array([['obs_low'] * 32,\n",
      "                                 ['obs_high'] * 32])\n",
      "observation_template[0, 13:17] = 'obs_high'\n",
      "observation_template[1, 13:17] = 'obs_low'"
     ],
     "language": "python",
     "metadata": {},
     "outputs": [],
     "prompt_number": 7
    },
    {
     "cell_type": "markdown",
     "metadata": {},
     "source": [
      "Each observed pixel variable occurs in the same factor as its label."
     ]
    },
    {
     "cell_type": "code",
     "collapsed": false,
     "input": [
      "I, J = image.shape\n",
      "factors = []\n",
      "evidence = {}\n",
      "\n",
      "# Add observation factors\n",
      "for i in xrange(I):\n",
      "    for j in xrange(J):\n",
      "        label_variable_name = 'label_{}_{}'.format(i, j)\n",
      "        observation_variable_name = 'obs_{}_{}'.format(i,j)\n",
      "        factors.append(DiscreteFactor([(label_variable_name, 2), (observation_variable_name, 32)], parameters=observation_template))\n",
      "        evidence[observation_variable_name] = image[i, j]"
     ],
     "language": "python",
     "metadata": {},
     "outputs": [],
     "prompt_number": 8
    },
    {
     "cell_type": "markdown",
     "metadata": {},
     "source": [
      "### Build the model"
     ]
    },
    {
     "cell_type": "code",
     "collapsed": false,
     "input": [
      "from pyugm.model import Model\n",
      "model = Model(factors)"
     ],
     "language": "python",
     "metadata": {},
     "outputs": [],
     "prompt_number": 9
    },
    {
     "cell_type": "markdown",
     "metadata": {},
     "source": [
      "### Choose parameters and set the evidence\n",
      "\n",
      "Give a higher probability of seeing background pixel intensities of 13 to 17 than foreground intensities in that range."
     ]
    },
    {
     "cell_type": "code",
     "collapsed": false,
     "input": [
      "parameters = {'obs_high': 0.1, 'obs_low': -1.0}\n",
      "model.set_parameters(parameters)\n",
      "model.set_evidence(evidence)"
     ],
     "language": "python",
     "metadata": {},
     "outputs": [],
     "prompt_number": 10
    },
    {
     "cell_type": "markdown",
     "metadata": {},
     "source": [
      "### Run belief updates"
     ]
    },
    {
     "cell_type": "code",
     "collapsed": false,
     "input": [
      "from pyugm.infer_message import LoopyBeliefUpdateInference\n",
      "from pyugm.infer_message import FloodingProtocol\n",
      "\n",
      "inference = LoopyBeliefUpdateInference(model)\n",
      "order = FloodingProtocol(model, max_iterations=30)"
     ],
     "language": "python",
     "metadata": {},
     "outputs": [],
     "prompt_number": 11
    },
    {
     "cell_type": "code",
     "collapsed": false,
     "input": [
      "inference.calibrate(update_order=order)"
     ],
     "language": "python",
     "metadata": {},
     "outputs": [
      {
       "metadata": {},
       "output_type": "pyout",
       "prompt_number": 12,
       "text": [
        "(0, 0)"
       ]
      }
     ],
     "prompt_number": 12
    },
    {
     "cell_type": "markdown",
     "metadata": {},
     "source": [
      "### Visualise"
     ]
    },
    {
     "cell_type": "code",
     "collapsed": false,
     "input": [
      "labels = np.zeros(image.shape)\n",
      "for i in xrange(I):\n",
      "    for j in xrange(J):\n",
      "        variable_name = 'label_{}_{}'.format(i, j)\n",
      "        label_factor = model.get_marginals(variable_name)[0]\n",
      "        labels[i, j] = label_factor.normalized_data[0] "
     ],
     "language": "python",
     "metadata": {},
     "outputs": [],
     "prompt_number": 13
    },
    {
     "cell_type": "code",
     "collapsed": false,
     "input": [
      "plt.figure(figsize=(14, 3))\n",
      "plt.subplot(1, 3, 1)\n",
      "_ = plt.imshow(image, cmap=matplotlib.cm.Greys_r, interpolation='nearest')\n",
      "_ = plt.title('Image')\n",
      "plt.subplot(1, 3, 2)\n",
      "_ = plt.imshow(labels, cmap=matplotlib.cm.Greys, interpolation='nearest')\n",
      "_ = plt.title('Image')"
     ],
     "language": "python",
     "metadata": {},
     "outputs": [
      {
       "metadata": {},
       "output_type": "display_data",
       "png": "[encoded data removed]",
       "text": [
        "<matplotlib.figure.Figure at 0x1061ea7d0>"
       ]
      }
     ],
     "prompt_number": 14
    },
    {
     "cell_type": "markdown",
     "metadata": {},
     "source": [
      "## Connecting some of the labels\n",
      "\n",
      "Now we can start to think how the factors must be filled to nudge neighbouring labels to be similar and smooth out the baseline a bit.\n",
      "\n",
      "The label can take on one of two values (background or foreground). Additionally, a variable and one of its neighbours occur together in a factor.\n",
      "\n",
      "Let's add one parameter for when these two variables' labels are the same and one for when they are different."
     ]
    },
    {
     "cell_type": "markdown",
     "metadata": {},
     "source": [
      "### Template"
     ]
    },
    {
     "cell_type": "code",
     "collapsed": true,
     "input": [
      "label_template = np.array([['same', 'different'], \n",
      "                           ['different', 'same']])"
     ],
     "language": "python",
     "metadata": {},
     "outputs": [],
     "prompt_number": 15
    },
    {
     "cell_type": "markdown",
     "metadata": {},
     "source": [
      "### Factors\n",
      "\n",
      "Before building a model where each label is connected to all of its neighbours, let's first only connect the top and bottom neighbour. Pixel columns are thus connected."
     ]
    },
    {
     "cell_type": "code",
     "collapsed": false,
     "input": [
      "evidence = {}\n",
      "factors = []"
     ],
     "language": "python",
     "metadata": {},
     "outputs": [],
     "prompt_number": 16
    },
    {
     "cell_type": "code",
     "collapsed": false,
     "input": [
      "# Add observation factors\n",
      "for i in xrange(I):\n",
      "    for j in xrange(J):\n",
      "        label_variable_name = 'label_{}_{}'.format(i, j)\n",
      "        observation_variable_name = 'obs_{}_{}'.format(i, j)\n",
      "        factors.append(DiscreteFactor([(label_variable_name, 2), (observation_variable_name, 32)], parameters=observation_template))\n",
      "        evidence[observation_variable_name] = image[i, j] \n",
      "        \n",
      "# Add label factors\n",
      "for i in xrange(I):\n",
      "    for j in xrange(J):\n",
      "        variable_name = 'label_{}_{}'.format(i, j)\n",
      "        if i + 1 < I:\n",
      "            neighbour_down_name = 'label_{}_{}'.format(i + 1, j)\n",
      "            factors.append(DiscreteFactor([(variable_name, 2), (neighbour_down_name, 2)], parameters=label_template))"
     ],
     "language": "python",
     "metadata": {},
     "outputs": [],
     "prompt_number": 17
    },
    {
     "cell_type": "markdown",
     "metadata": {},
     "source": [
      "### Model\n",
      "\n",
      "Add the factors to a model."
     ]
    },
    {
     "cell_type": "code",
     "collapsed": false,
     "input": [
      "model = Model(factors)"
     ],
     "language": "python",
     "metadata": {},
     "outputs": [],
     "prompt_number": 18
    },
    {
     "cell_type": "markdown",
     "metadata": {},
     "source": [
      "### Choose parameters\n",
      "\n",
      "Lets choose parameters so that neighbouring labels are encouraged to be the same, and observations between 13 and 17 more likely\n",
      "to be background."
     ]
    },
    {
     "cell_type": "code",
     "collapsed": false,
     "input": [
      "parameters = {'same': 2.0, 'different': -1.0, 'obs_high': 1.0, 'obs_low': -0.0}\n",
      "model.set_parameters(parameters)\n",
      "model.set_evidence(evidence)"
     ],
     "language": "python",
     "metadata": {},
     "outputs": [],
     "prompt_number": 19
    },
    {
     "cell_type": "markdown",
     "metadata": {},
     "source": [
      "### Run belief updates"
     ]
    },
    {
     "cell_type": "code",
     "collapsed": false,
     "input": [
      "from pyugm.infer_message import TreeBeliefUpdateInference\n",
      "from pyugm.infer_message import DistributeCollectProtocol\n",
      "\n",
      "from pyugm.infer_message import LoopyBeliefUpdateInference\n",
      "from pyugm.infer_message import FloodingProtocol, LoopyDistributeCollectProtocol\n",
      "# Get some feedback on how inference is converging by listening in on some of the label beliefs.\n",
      "var_values = {'label_1_1': [], 'label_10_10': [], 'label_20_20': [], 'label_30_30': [], 'label_40_40': []}\n",
      "changes = []\n",
      "def reporter(ordering):\n",
      "    for var in var_values.keys():\n",
      "        marginal = model.get_marginals(var)[0].data[0]\n",
      "        var_values[var].append(marginal)\n",
      "    change = ordering.current_iteration_delta\n",
      "    changes.append(change)\n",
      "    print ordering.total_iterations, change, marginal\n",
      "    \n",
      "#inference = TreeBeliefUpdateInference(model)\n",
      "#order = DistributeCollectProtocol(model)\n",
      "inference = LoopyBeliefUpdateInference(model)\n",
      "order = FloodingProtocol(model, max_iterations=14, callback=reporter)"
     ],
     "language": "python",
     "metadata": {},
     "outputs": [],
     "prompt_number": 20
    },
    {
     "cell_type": "code",
     "collapsed": false,
     "input": [
      "inference.calibrate(update_order=order)"
     ],
     "language": "python",
     "metadata": {},
     "outputs": [
      {
       "output_type": "stream",
       "stream": "stdout",
       "text": [
        "1 19137.7602247 0.868894789974\n",
        "2"
       ]
      },
      {
       "output_type": "stream",
       "stream": "stdout",
       "text": [
        " 978.7254645 0.991095689044\n",
        "3"
       ]
      },
      {
       "output_type": "stream",
       "stream": "stdout",
       "text": [
        " 358.907864514 0.994261565395\n",
        "4"
       ]
      },
      {
       "output_type": "stream",
       "stream": "stdout",
       "text": [
        " 153.660992675 0.994261565395\n",
        "5"
       ]
      },
      {
       "output_type": "stream",
       "stream": "stdout",
       "text": [
        " 71.8530115728 0.994279317033\n",
        "6"
       ]
      },
      {
       "output_type": "stream",
       "stream": "stdout",
       "text": [
        " 38.8691428209 0.994375576371\n",
        "7"
       ]
      },
      {
       "output_type": "stream",
       "stream": "stdout",
       "text": [
        " 23.4447425299 0.995920695408\n",
        "8"
       ]
      },
      {
       "output_type": "stream",
       "stream": "stdout",
       "text": [
        " 12.5466662347 0.996579122553\n",
        "9"
       ]
      },
      {
       "output_type": "stream",
       "stream": "stdout",
       "text": [
        " 7.81747967671 0.996305717377\n",
        "10"
       ]
      },
      {
       "output_type": "stream",
       "stream": "stdout",
       "text": [
        " 4.3232259933 0.996305717377\n",
        "11"
       ]
      },
      {
       "output_type": "stream",
       "stream": "stdout",
       "text": [
        " 2.61401094616 0.996305717377\n",
        "12"
       ]
      },
      {
       "output_type": "stream",
       "stream": "stdout",
       "text": [
        " 1.33143721422 0.995799015155\n",
        "13"
       ]
      },
      {
       "output_type": "stream",
       "stream": "stdout",
       "text": [
        " 0.720598750602 0.995668216304\n",
        "14"
       ]
      },
      {
       "output_type": "stream",
       "stream": "stdout",
       "text": [
        " 0.318154100724 0.995668216304\n",
        "15"
       ]
      },
      {
       "output_type": "stream",
       "stream": "stdout",
       "text": [
        " 0.189984626768 0.995668254057\n"
       ]
      },
      {
       "metadata": {},
       "output_type": "pyout",
       "prompt_number": 21,
       "text": [
        "(0.18998462676762781, 15)"
       ]
      }
     ],
     "prompt_number": 21
    },
    {
     "cell_type": "markdown",
     "metadata": {},
     "source": [
      "### Visualise"
     ]
    },
    {
     "cell_type": "code",
     "collapsed": false,
     "input": [
      "labels = np.zeros(image.shape)\n",
      "labels2 = np.zeros(image.shape)\n",
      "for i in xrange(I):\n",
      "    for j in xrange(J):\n",
      "        variable_name = 'label_{}_{}'.format(i, j)\n",
      "        label_factor = model.get_marginals(variable_name)[0]\n",
      "        labels[i, j] = label_factor.normalized_data[0] \n",
      "        \n",
      "        label_factor = model.get_marginals(variable_name)[1]\n",
      "        labels2[i, j] = label_factor.normalized_data[0] "
     ],
     "language": "python",
     "metadata": {},
     "outputs": [],
     "prompt_number": 22
    },
    {
     "cell_type": "code",
     "collapsed": false,
     "input": [
      "plt.figure(figsize=(14, 13))\n",
      "plt.subplot(1, 3, 1)\n",
      "_ = plt.imshow(image, cmap=matplotlib.cm.Greys_r, interpolation='nearest')\n",
      "_ = plt.title('Image')\n",
      "plt.subplot(1, 3, 2)\n",
      "_ = plt.imshow(labels, cmap=matplotlib.cm.Greys, interpolation='nearest')\n",
      "_ = plt.title('Image')\n",
      "plt.subplot(1, 3, 3)\n",
      "_ = plt.imshow(labels2, cmap=matplotlib.cm.Greys, interpolation='nearest')\n",
      "_ = plt.title('Image')\n",
      "#_ = plt.imshow(labels > 0.10 , cmap=matplotlib.cm.Greys, interpolation='nearest')\n",
      "#_ = plt.title('Image')"
     ],
     "language": "python",
     "metadata": {},
     "outputs": [
      {
       "metadata": {},
       "output_type": "display_data",
       "png": "[encoded data removed]",
       "text": [
        "<matplotlib.figure.Figure at 0x10c7ca610>"
       ]
      }
     ],
     "prompt_number": 23
    },
    {
     "cell_type": "code",
     "collapsed": false,
     "input": [
      "image[:, 10]"
     ],
     "language": "python",
     "metadata": {},
     "outputs": [
      {
       "metadata": {},
       "output_type": "pyout",
       "prompt_number": 24,
       "text": [
        "array([ 16.,  16.,  14.,  13.,  15.,  16.,  14.,  13.,  15.,  16.,  15.,\n",
        "        13.,  14.,  16.,  16.,  15.,  13.,  13.,  14.,  14.,  13.,  14.,\n",
        "        14.,  14.,  14.,  14.,  14.,  14.,  14.,  14.,  14.,  14.,  14.,\n",
        "        14.,  14.,  14.,  14.,  14.,  14.,  14.,  14.,   9.,   4.,   4.,\n",
        "         4.,   4.,   5.,   3.,   2.,   3.,   2.,   3.,   3.,   3.,   3.,\n",
        "         3.,   3.,   3.,   3.,   4.,   4.,   5.,   5.,   5.], dtype=float16)"
       ]
      }
     ],
     "prompt_number": 24
    },
    {
     "cell_type": "code",
     "collapsed": false,
     "input": [
      "for i in xrange(10):\n",
      "    for j in xrange(10):\n",
      "        variable_name = 'label_{}_{}'.format(i, j)\n",
      "        em = model.get_marginals(variable_name)[0]\n",
      "        for label_factor in model.get_marginals(variable_name):\n",
      "            if sum(abs(em.normalized_data - label_factor.normalized_data)) > 0.05:\n",
      "                print label_factor, i, j, label_factor.normalized_data[0], em.normalized_data[0]"
     ],
     "language": "python",
     "metadata": {},
     "outputs": [],
     "prompt_number": 25
    },
    {
     "cell_type": "markdown",
     "metadata": {},
     "source": [
      "## Connecting more of the labels\n",
      "\n",
      "Let's also connect up the rows, to form a grid of labels."
     ]
    },
    {
     "cell_type": "code",
     "collapsed": false,
     "input": [
      "evidence = {}\n",
      "factors = []\n",
      "# Add observation factors\n",
      "for i in xrange(I):\n",
      "    for j in xrange(J):\n",
      "        label_variable_name = 'label_{}_{}'.format(i, j)\n",
      "        observation_variable_name = 'obs_{}_{}'.format(i, j)\n",
      "        factors.append(DiscreteFactor([(label_variable_name, 2), (observation_variable_name, 32)], parameters=observation_template))\n",
      "        evidence[observation_variable_name] = image[i, j]\n",
      "        \n",
      "# Add label factors\n",
      "for i in xrange(I):\n",
      "    for j in xrange(J):\n",
      "        variable_name = 'label_{}_{}'.format(i, j)\n",
      "        if i + 1 < I:\n",
      "            neighbour_down_name = 'label_{}_{}'.format(i + 1, j)\n",
      "            factors.append(DiscreteFactor([(variable_name, 2), (neighbour_down_name, 2)], parameters=label_template))\n",
      "        if j + 1 < J:\n",
      "            neighbour_right_name = 'label_{}_{}'.format(i, j + 1)\n",
      "            factors.append(DiscreteFactor([(variable_name, 2), (neighbour_right_name, 2)], parameters=label_template))"
     ],
     "language": "python",
     "metadata": {},
     "outputs": [],
     "prompt_number": 26
    },
    {
     "cell_type": "markdown",
     "metadata": {},
     "source": [
      "### Model\n",
      "\n",
      "Build the model."
     ]
    },
    {
     "cell_type": "code",
     "collapsed": false,
     "input": [
      "model = Model(factors)\n",
      "parameters = {'same': 0.1, 'different': -1.0, 'obs_high': 1.0, 'obs_low': -0.0}\n",
      "model.set_parameters(parameters)\n",
      "model.set_evidence(evidence)"
     ],
     "language": "python",
     "metadata": {},
     "outputs": [],
     "prompt_number": 28
    },
    {
     "cell_type": "markdown",
     "metadata": {},
     "source": [
      "### Run belief updates"
     ]
    },
    {
     "cell_type": "code",
     "collapsed": false,
     "input": [
      "from pyugm.infer_message import LoopyBeliefUpdateInference\n",
      "from pyugm.infer_message import FloodingProtocol, LoopyDistributeCollectProtocol\n",
      "\n",
      "inference = LoopyBeliefUpdateInference(model)\n",
      "\n",
      "# Get some feedback on how inference is converging by listening in on some of the label beliefs.\n",
      "var_values = {'label_1_1': [], 'label_10_10': [], 'label_20_20': [], 'label_30_30': [], 'label_40_40': []}\n",
      "changes = []\n",
      "def reporter(ordering):\n",
      "    for var in var_values.keys():\n",
      "        marginal = model.get_marginals(var)[0].data[0]\n",
      "        var_values[var].append(marginal)\n",
      "    change = ordering.current_iteration_delta\n",
      "    changes.append(change)\n",
      "    print ordering.total_iterations, change, marginal\n",
      "    \n",
      "#order = LoopyDistributeCollectProtocol(model, max_iterations=10, callback=reporter)\n",
      "order = FloodingProtocol(model, max_iterations=14, callback=reporter)"
     ],
     "language": "python",
     "metadata": {},
     "outputs": [],
     "prompt_number": 29
    },
    {
     "cell_type": "code",
     "collapsed": true,
     "input": [
      "inference.calibrate(update_order=order, damping=0.0)"
     ],
     "language": "python",
     "metadata": {},
     "outputs": [
      {
       "output_type": "stream",
       "stream": "stdout",
       "text": [
        "1 9758.59313264 0.870525284819\n",
        "2"
       ]
      },
      {
       "output_type": "stream",
       "stream": "stdout",
       "text": [
        " 2307.24562553 0.889687767809\n",
        "3"
       ]
      },
      {
       "output_type": "stream",
       "stream": "stdout",
       "text": [
        " 807.217894038 0.896101293991\n",
        "4"
       ]
      },
      {
       "output_type": "stream",
       "stream": "stdout",
       "text": [
        " 248.029228478 0.901603480742\n",
        "5"
       ]
      },
      {
       "output_type": "stream",
       "stream": "stdout",
       "text": [
        " 95.8815196057 0.898501523029\n",
        "6"
       ]
      },
      {
       "output_type": "stream",
       "stream": "stdout",
       "text": [
        " 44.5975396409 0.902619422836\n",
        "7"
       ]
      },
      {
       "output_type": "stream",
       "stream": "stdout",
       "text": [
        " 24.4298180738 0.909685149615\n",
        "8"
       ]
      },
      {
       "output_type": "stream",
       "stream": "stdout",
       "text": [
        " 14.4649399707 0.909465630038\n",
        "9"
       ]
      },
      {
       "output_type": "stream",
       "stream": "stdout",
       "text": [
        " 9.92779447416 0.912634057836\n",
        "10"
       ]
      },
      {
       "output_type": "stream",
       "stream": "stdout",
       "text": [
        " 6.15789743062 0.912804743306\n",
        "11"
       ]
      },
      {
       "output_type": "stream",
       "stream": "stdout",
       "text": [
        " 4.258583508 0.912898042389\n",
        "12"
       ]
      },
      {
       "output_type": "stream",
       "stream": "stdout",
       "text": [
        " 2.3504842873 0.913078388499\n",
        "13"
       ]
      },
      {
       "output_type": "stream",
       "stream": "stdout",
       "text": [
        " 1.6514561226 0.913187915252\n",
        "14"
       ]
      },
      {
       "output_type": "stream",
       "stream": "stdout",
       "text": [
        " 0.839975498121 0.913267545626\n",
        "15"
       ]
      },
      {
       "output_type": "stream",
       "stream": "stdout",
       "text": [
        " 0.639674847527 0.913277019333\n"
       ]
      },
      {
       "metadata": {},
       "output_type": "pyout",
       "prompt_number": 30,
       "text": [
        "(0.63967484752726844, 15)"
       ]
      }
     ],
     "prompt_number": 30
    },
    {
     "cell_type": "markdown",
     "metadata": {},
     "source": [
      "### Is BP converging?\n",
      "\n",
      "We can check that the total change in belief becomes less after each iteration:"
     ]
    },
    {
     "cell_type": "code",
     "collapsed": false,
     "input": [
      "_ = plt.plot([np.log(change) for change in changes])\n",
      "_ = plt.ylabel('Log of total belief change')\n",
      "_ = plt.xlabel('Iteration number')"
     ],
     "language": "python",
     "metadata": {},
     "outputs": [
      {
       "metadata": {},
       "output_type": "display_data",
       "png": "[encoded data removed]",
       "text": [
        "<matplotlib.figure.Figure at 0x10f0f53d0>"
       ]
      }
     ],
     "prompt_number": 31
    },
    {
     "cell_type": "markdown",
     "metadata": {},
     "source": [
      "And here are the beliefs for a few variables:"
     ]
    },
    {
     "cell_type": "code",
     "collapsed": false,
     "input": [
      "for key, value in var_values.items():\n",
      "    plt.plot(value)\n",
      "_ = plt.ylabel('Normalized belief that the variable equals 0')\n",
      "_ = plt.xlabel('Iteration number')"
     ],
     "language": "python",
     "metadata": {},
     "outputs": [
      {
       "metadata": {},
       "output_type": "display_data",
       "png": "[encoded data removed]",
       "text": [
        "<matplotlib.figure.Figure at 0x10aaf6a90>"
       ]
      }
     ],
     "prompt_number": 32
    },
    {
     "cell_type": "markdown",
     "metadata": {},
     "source": [
      "### Visualise the beliefs"
     ]
    },
    {
     "cell_type": "code",
     "collapsed": false,
     "input": [
      "labels = np.zeros(image.shape)\n",
      "for i in xrange(I):\n",
      "    for j in xrange(J):\n",
      "        variable_name = 'label_{}_{}'.format(i, j)\n",
      "        label_factor = model.get_marginals(variable_name)[0]\n",
      "        labels[i, j] = label_factor.normalized_data[0] "
     ],
     "language": "python",
     "metadata": {},
     "outputs": [],
     "prompt_number": 33
    },
    {
     "cell_type": "code",
     "collapsed": false,
     "input": [
      "plt.figure(figsize=(14, 3))\n",
      "plt.subplot(1, 3, 1)\n",
      "_ = plt.imshow(image, cmap=matplotlib.cm.Greys_r, interpolation='nearest')\n",
      "_ = plt.title('Image')\n",
      "plt.subplot(1, 3, 2)\n",
      "_ = plt.imshow(labels, cmap=matplotlib.cm.Greys, interpolation='nearest')\n",
      "_ = plt.title('Image')\n",
      "plt.subplot(1, 3, 3)\n",
      "_ = plt.imshow(labels > 0.50 , cmap=matplotlib.cm.Greys, interpolation='nearest')\n",
      "_ = plt.title('Image')"
     ],
     "language": "python",
     "metadata": {},
     "outputs": [
      {
       "metadata": {},
       "output_type": "display_data",
       "png": "[encoded data removed]",
       "text": [
        "<matplotlib.figure.Figure at 0x10a9f0c10>"
       ]
      }
     ],
     "prompt_number": 34
    },
    {
     "cell_type": "markdown",
     "metadata": {},
     "source": [
      "Although belief propagation seems to converge, the beliefs are far from the marginals we expect [want]."
     ]
    },
    {
     "cell_type": "markdown",
     "metadata": {},
     "source": [
      "## Larger clusters\n",
      "\n",
      "Lets enlarge the cluster sizes to see whether belief propagation gives better results then.\n",
      "\n",
      "### Template\n",
      "\n",
      "The parameter templates must of course also be enlarged. "
     ]
    },
    {
     "cell_type": "code",
     "collapsed": false,
     "input": [
      "label_template = np.array(['dummy values'] * 32).reshape(2, 2, 2, 2, 2)\n",
      "for i1 in xrange(2):\n",
      "    for i2 in xrange(2):\n",
      "        for i3 in xrange(2):\n",
      "            for i4 in xrange(2):\n",
      "                for i5 in xrange(2):\n",
      "                    same_num = 0\n",
      "                    if (i1 + i2) % 2 == 0:\n",
      "                        same_num += 1\n",
      "                    else:\n",
      "                        same_num -= 1\n",
      "                    if (i1 + i3) % 2 == 0:\n",
      "                        same_num += 1\n",
      "                    else:\n",
      "                        same_num -= 1\n",
      "                    if (i1 + i4) % 2 == 0:\n",
      "                        same_num += 1\n",
      "                    else:\n",
      "                        same_num -= 1\n",
      "                    if (i1 + i5) % 2 == 0:\n",
      "                        same_num += 1\n",
      "                    else:\n",
      "                        same_num -= 1\n",
      "                    \n",
      "                    if same_num > 0:\n",
      "                        label_template[i1, i2, i3, i4, i5] = 'same'\n",
      "                    elif same_num < 0:\n",
      "                        label_template[i1, i2, i3, i4, i5] = 'different'\n",
      "                    else:\n",
      "                        label_template[i1, i2, i3, i4, i5] = 'neutral'\n",
      "                        \n",
      "print label_template"
     ],
     "language": "python",
     "metadata": {},
     "outputs": [
      {
       "output_type": "stream",
       "stream": "stdout",
       "text": [
        "[[[[['same' 'same']\n",
        "    ['same' 'neutral']]\n",
        "\n",
        "   [['same' 'neutral']\n",
        "    ['neutral' 'different']]]\n",
        "\n",
        "\n",
        "  [[['same' 'neutral']\n",
        "    ['neutral' 'different']]\n",
        "\n",
        "   [['neutral' 'different']\n",
        "    ['different' 'different']]]]\n",
        "\n",
        "\n",
        "\n",
        " [[[['different' 'different']\n",
        "    ['different' 'neutral']]\n",
        "\n",
        "   [['different' 'neutral']\n",
        "    ['neutral' 'same']]]\n",
        "\n",
        "\n",
        "  [[['different' 'neutral']\n",
        "    ['neutral' 'same']]\n",
        "\n",
        "   [['neutral' 'same']\n",
        "    ['same' 'same']]]]]\n"
       ]
      }
     ],
     "prompt_number": 35
    },
    {
     "cell_type": "markdown",
     "metadata": {},
     "source": [
      "### Factors and model\n",
      "\n",
      "Instead of two two-variables factor per grid position, we now add only one five-variable factor."
     ]
    },
    {
     "cell_type": "code",
     "collapsed": false,
     "input": [
      "evidence = {}\n",
      "factors = []\n",
      "# Add observation factors\n",
      "for i in xrange(I):\n",
      "    for j in xrange(J):\n",
      "        label_variable_name = 'label_{}_{}'.format(i, j)\n",
      "        observation_variable_name = 'obs_{}_{}'.format(i, j)\n",
      "        factors.append(DiscreteFactor([(label_variable_name, 2), (observation_variable_name, 32)], parameters=observation_template))\n",
      "        evidence[observation_variable_name] = image[i, j]\n",
      "        \n",
      "# Add label factors\n",
      "for i in xrange(1, I - 1):\n",
      "    for j in xrange(1, J - 1):\n",
      "        variable_name = 'label_{}_{}'.format(i, j)\n",
      "        neighbour_down_name = 'label_{}_{}'.format(i + 1, j)\n",
      "        neighbour_up_name = 'label_{}_{}'.format(i - 1, j)\n",
      "        neighbour_right_name = 'label_{}_{}'.format(i, j + 1)\n",
      "        neighbour_left_name = 'label_{}_{}'.format(i, j - 1)\n",
      "        \n",
      "        factors.append(DiscreteFactor([(variable_name, 2), (neighbour_down_name, 2), (neighbour_left_name, 2),\n",
      "                                       (neighbour_up_name, 2), (neighbour_right_name, 2)], parameters=label_template))"
     ],
     "language": "python",
     "metadata": {},
     "outputs": [],
     "prompt_number": 36
    },
    {
     "cell_type": "code",
     "collapsed": false,
     "input": [
      "parameters = {'same': 2.0, 'different': -1.0, 'neutral': 0.0, 'obs_high': 0.1, 'obs_low': -1.0}\n",
      "model.set_parameters(parameters)\n",
      "model.set_evidence(evidence)\n",
      "model = Model(factors)"
     ],
     "language": "python",
     "metadata": {},
     "outputs": [],
     "prompt_number": 52
    },
    {
     "cell_type": "markdown",
     "metadata": {},
     "source": [
      "### Run inference\n",
      "\n",
      "Same as before. (This time I found that more damping worked better)"
     ]
    },
    {
     "cell_type": "code",
     "collapsed": false,
     "input": [
      "from pyugm.infer_message import LoopyBeliefUpdateInference\n",
      "from pyugm.infer_message import FloodingProtocol, LoopyDistributeCollectProtocol\n",
      "\n",
      "inference = LoopyBeliefUpdateInference(model)\n",
      "\n",
      "# Get some feedback on how inference is converging by listening in on some of the label beliefs.\n",
      "var_values = {'label_1_1': [], 'label_10_10': [], 'label_20_20': [], 'label_30_30': [], 'label_40_40': []}\n",
      "changes = []\n",
      "def reporter(ordering):\n",
      "    for var in var_values.keys():\n",
      "        marginal = model.get_marginals(var)[0].data[0]\n",
      "        var_values[var].append(marginal)\n",
      "    change = ordering.current_iteration_delta\n",
      "    changes.append(change)\n",
      "    print ordering.total_iterations, change, marginal\n",
      "    \n",
      "order = FloodingProtocol(model, max_iterations=14, callback=reporter)"
     ],
     "language": "python",
     "metadata": {},
     "outputs": [],
     "prompt_number": 53
    },
    {
     "cell_type": "code",
     "collapsed": true,
     "input": [
      "inference.calibrate(update_order=order, damping=0.0)"
     ],
     "language": "python",
     "metadata": {},
     "outputs": [
      {
       "output_type": "stream",
       "stream": "stdout",
       "text": [
        "1 80858.3056233 0.750478570623\n",
        "2"
       ]
      },
      {
       "output_type": "stream",
       "stream": "stdout",
       "text": [
        " 1808.34942037 0.860695565736\n",
        "3"
       ]
      },
      {
       "output_type": "stream",
       "stream": "stdout",
       "text": [
        " 278.06780953 0.998523886201\n",
        "4"
       ]
      },
      {
       "output_type": "stream",
       "stream": "stdout",
       "text": [
        " 63.6219026977 0.999667010662\n",
        "5"
       ]
      },
      {
       "output_type": "stream",
       "stream": "stdout",
       "text": [
        " 21.8079939586 0.99968549855\n",
        "6"
       ]
      },
      {
       "output_type": "stream",
       "stream": "stdout",
       "text": [
        " 10.4512774378 0.999683187171\n",
        "7"
       ]
      },
      {
       "output_type": "stream",
       "stream": "stdout",
       "text": [
        " 5.37134736765 0.999683191902\n",
        "8"
       ]
      },
      {
       "output_type": "stream",
       "stream": "stdout",
       "text": [
        " 3.12041445186 0.999683040672\n",
        "9"
       ]
      },
      {
       "output_type": "stream",
       "stream": "stdout",
       "text": [
        " 1.16368383268 0.999683041019\n",
        "10"
       ]
      },
      {
       "output_type": "stream",
       "stream": "stdout",
       "text": [
        " 0.256107041387 0.99968303937\n",
        "11"
       ]
      },
      {
       "output_type": "stream",
       "stream": "stdout",
       "text": [
        " 0.117669446724 0.999683039155\n",
        "12"
       ]
      },
      {
       "output_type": "stream",
       "stream": "stdout",
       "text": [
        " 0.0831214581126 0.999683039176\n",
        "13"
       ]
      },
      {
       "output_type": "stream",
       "stream": "stdout",
       "text": [
        " 0.144950641995 0.999683039124\n",
        "14"
       ]
      },
      {
       "output_type": "stream",
       "stream": "stdout",
       "text": [
        " 0.0538793566163 0.999683039111\n",
        "15"
       ]
      },
      {
       "output_type": "stream",
       "stream": "stdout",
       "text": [
        " 0.0808285181435 0.999683039113\n"
       ]
      },
      {
       "metadata": {},
       "output_type": "pyout",
       "prompt_number": 54,
       "text": [
        "(0.080828518143473346, 15)"
       ]
      }
     ],
     "prompt_number": 54
    },
    {
     "cell_type": "code",
     "collapsed": false,
     "input": [
      "_ = plt.plot([np.log(change) for change in changes])\n",
      "_ = plt.ylabel('Log of total belief change')\n",
      "_ = plt.xlabel('Iteration number')"
     ],
     "language": "python",
     "metadata": {},
     "outputs": [
      {
       "metadata": {},
       "output_type": "display_data",
       "png": "[encoded data removed]",
       "text": [
        "<matplotlib.figure.Figure at 0x10aa129d0>"
       ]
      }
     ],
     "prompt_number": 55
    },
    {
     "cell_type": "code",
     "collapsed": false,
     "input": [
      "for key, value in var_values.items():\n",
      "    plt.plot(value)\n",
      "_ = plt.ylabel('Normalized belief that the variable equals 0')\n",
      "_ = plt.xlabel('Iteration number')"
     ],
     "language": "python",
     "metadata": {},
     "outputs": [
      {
       "metadata": {},
       "output_type": "display_data",
       "png": "[encoded data removed]",
       "text": [
        "<matplotlib.figure.Figure at 0x1063d5590>"
       ]
      }
     ],
     "prompt_number": 56
    },
    {
     "cell_type": "markdown",
     "metadata": {},
     "source": [
      "### Visualize the beliefs"
     ]
    },
    {
     "cell_type": "code",
     "collapsed": false,
     "input": [
      "labels = np.zeros(image.shape)\n",
      "for i in xrange(I):\n",
      "    for j in xrange(J):\n",
      "        variable_name = 'label_{}_{}'.format(i, j)\n",
      "        label_factor = model.get_marginals(variable_name)[0]\n",
      "        labels[i, j] = label_factor.normalized_data[0] "
     ],
     "language": "python",
     "metadata": {},
     "outputs": [],
     "prompt_number": 57
    },
    {
     "cell_type": "code",
     "collapsed": false,
     "input": [
      "plt.figure(figsize=(14, 3))\n",
      "plt.subplot(1, 3, 1)\n",
      "_ = plt.imshow(image, cmap=matplotlib.cm.Greys_r, interpolation='nearest')\n",
      "_ = plt.title('Image')\n",
      "plt.subplot(1, 3, 2)\n",
      "_ = plt.imshow(labels, cmap=matplotlib.cm.Greys, interpolation='nearest')\n",
      "_ = plt.title('Image')\n",
      "plt.subplot(1, 3, 3)\n",
      "_ = plt.imshow(labels > 0.33 , cmap=matplotlib.cm.Greys, interpolation='nearest')\n",
      "_ = plt.title('Image')"
     ],
     "language": "python",
     "metadata": {},
     "outputs": [
      {
       "metadata": {},
       "output_type": "display_data",
       "png": "[encoded data removed]",
       "text": [
        "<matplotlib.figure.Figure at 0x10c120750>"
       ]
      }
     ],
     "prompt_number": 58
    },
    {
     "cell_type": "markdown",
     "metadata": {},
     "source": [
      "## Conclusion\n",
      "\n",
      "To recap:\n",
      "\n",
      "- We compared four models on a simple segmentation task to demonstrate loopy belief propagation (LBP):\n",
      " 1. Baseline segmenting only using pixel intensities.\n",
      " 2. Labels columns connected pairwise.\n",
      " 3. Pairwise grid model.\n",
      " 4. Grid model where factors contain five label variables instead of two.\n",
      "- The column-connected model smoothed out the noise nicely.\n",
      "- LBP however failed to find beliefs on the grid model that looked as good - even though beliefs converged.\n",
      "- The picture improved somewhat with a the model with larger factors.\n",
      "\n",
      "LBP is known not to be a good way to do inference in grid-like graphs. To further tackle the problem I'll look at implementing structured variational inference or Gibbs sampling."
     ]
    }
   ],
   "metadata": {}
  }
 ]
}